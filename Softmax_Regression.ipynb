{
  "nbformat": 4,
  "nbformat_minor": 0,
  "metadata": {
    "colab": {
      "name": "20203065_박규연_과제3.ipynb",
      "provenance": [],
      "collapsed_sections": []
    },
    "kernelspec": {
      "name": "python3",
      "display_name": "Python 3"
    },
    "language_info": {
      "name": "python"
    }
  },
  "cells": [
    {
      "cell_type": "markdown",
      "metadata": {
        "id": "GuNkwHIUrKX-"
      },
      "source": [
        "# Pytorch로 Softmax Regression 구현"
      ]
    },
    {
      "cell_type": "code",
      "metadata": {
        "id": "OEVdZmt3O8uF"
      },
      "source": [
        "import torch"
      ],
      "execution_count": 1,
      "outputs": []
    },
    {
      "cell_type": "code",
      "metadata": {
        "id": "tAl5QbDbRPZ8"
      },
      "source": [
        "x_train = torch.FloatTensor([[1, 2, 1, 1], [2, 1, 3, 2], [3, 1, 3, 4], [4, 1, 5, 5], [1, 7, 5, 5], [1, 2, 5, 6], [1, 6, 6, 6], [1, 7, 7, 7]])\n",
        "y_train = torch.FloatTensor([[0, 0, 1], [0, 0, 1], [0, 0, 1], [0, 1, 0], [0, 1, 0], [0, 1, 0], [1, 0, 0], [1, 0, 0]])"
      ],
      "execution_count": 2,
      "outputs": []
    },
    {
      "cell_type": "code",
      "metadata": {
        "id": "y--McKGyTZvE"
      },
      "source": [
        "W = torch.zeros(4, 3, requires_grad=True)\n",
        "b = torch.zeros(1, 3, requires_grad=True)\n",
        "\n",
        "optimizer = torch.optim.Adam([W, b], lr=0.1)"
      ],
      "execution_count": 3,
      "outputs": []
    },
    {
      "cell_type": "code",
      "metadata": {
        "colab": {
          "base_uri": "https://localhost:8080/"
        },
        "id": "W_SgUeQhWt1J",
        "outputId": "c762acec-5ad7-4259-9135-ced4739d450b"
      },
      "source": [
        "for epoch in range(3001):\n",
        "  hypothesis = torch.softmax(torch.mm(x_train, W) + b, dim=1)\n",
        "  cost = -torch.mean(torch.sum(y_train * torch.log(hypothesis), dim=1))\n",
        "\n",
        "  optimizer.zero_grad()\n",
        "  cost.backward()\n",
        "  optimizer.step()\n",
        "\n",
        "  if epoch % 300 == 0:\n",
        "    print(\"epoch: {}, cost: {:.6f}\".format(epoch, cost.item()))"
      ],
      "execution_count": 4,
      "outputs": [
        {
          "output_type": "stream",
          "name": "stdout",
          "text": [
            "epoch: 0, cost: 1.098612\n",
            "epoch: 300, cost: 0.105262\n",
            "epoch: 600, cost: 0.042634\n",
            "epoch: 900, cost: 0.023111\n",
            "epoch: 1200, cost: 0.014479\n",
            "epoch: 1500, cost: 0.009879\n",
            "epoch: 1800, cost: 0.007124\n",
            "epoch: 2100, cost: 0.005338\n",
            "epoch: 2400, cost: 0.004113\n",
            "epoch: 2700, cost: 0.003236\n",
            "epoch: 3000, cost: 0.002588\n"
          ]
        }
      ]
    },
    {
      "cell_type": "code",
      "metadata": {
        "colab": {
          "base_uri": "https://localhost:8080/"
        },
        "id": "mTIH0BOocYnt",
        "outputId": "53c57737-801d-4f11-f060-8e8dcbe1af5a"
      },
      "source": [
        "W.requires_grad_(False)\n",
        "b.requires_grad_(False)\n",
        "\n",
        "x_test = torch.FloatTensor([[1, 11, 10, 9], [1, 3, 4, 3], [1, 1, 0, 1]])\n",
        "test_all = torch.softmax(torch.mm(x_test, W) + b, dim=1)\n",
        "print(test_all)\n",
        "print(torch.argmax(test_all, dim=1))"
      ],
      "execution_count": 5,
      "outputs": [
        {
          "output_type": "stream",
          "name": "stdout",
          "text": [
            "tensor([[1.0000e+00, 5.5165e-19, 7.0151e-38],\n",
            "        [1.4800e-02, 7.4294e-01, 2.4226e-01],\n",
            "        [1.2256e-33, 9.0835e-12, 1.0000e+00]])\n",
            "tensor([0, 1, 2])\n"
          ]
        }
      ]
    },
    {
      "cell_type": "markdown",
      "metadata": {
        "id": "HOxJ5uvfrRgV"
      },
      "source": [
        "# 조금 더 깔끔하게 Softmax"
      ]
    },
    {
      "cell_type": "code",
      "metadata": {
        "id": "Galu9h2ac9MP"
      },
      "source": [
        "import torch.nn.functional as F\n",
        "import torch.nn as nn"
      ],
      "execution_count": 6,
      "outputs": []
    },
    {
      "cell_type": "code",
      "metadata": {
        "id": "F1wUU-t1dfJw"
      },
      "source": [
        "x_train = torch.FloatTensor([[1, 2, 1, 1], [2, 1, 3, 2], [3, 1, 3, 4], [4, 1, 5, 5], [1, 7, 5, 5], [1, 2, 5, 6], [1, 6, 6, 6], [1, 7, 7, 7]])\n",
        "y_train = torch.LongTensor([2, 2, 2, 1, 1, 1, 0, 0])"
      ],
      "execution_count": 7,
      "outputs": []
    },
    {
      "cell_type": "code",
      "metadata": {
        "id": "ND7i6nR5sGSo"
      },
      "source": [
        "W = torch.zeros(4, 3, requires_grad=True)\n",
        "b = torch.zeros(1, 3, requires_grad=True)\n",
        "\n",
        "model = nn.Linear(4, 3)\n",
        "optimizer = torch.optim.Adam(model.parameters(), lr=1)"
      ],
      "execution_count": 8,
      "outputs": []
    },
    {
      "cell_type": "code",
      "metadata": {
        "colab": {
          "base_uri": "https://localhost:8080/"
        },
        "id": "pqmaUiK0sKV2",
        "outputId": "b78b24fe-69ca-432b-a3da-29ac25475a3b"
      },
      "source": [
        "for epoch in range(3001):\n",
        "  z = model(x_train)\n",
        "  cost = F.cross_entropy(z, y_train)\n",
        "\n",
        "  optimizer.zero_grad()\n",
        "  cost.backward()\n",
        "  optimizer.step()\n",
        "\n",
        "  if epoch % 300 == 0:\n",
        "    print(\"epoch: {}, cost: {:.6f}\".format(epoch, cost.item()))"
      ],
      "execution_count": 9,
      "outputs": [
        {
          "output_type": "stream",
          "name": "stdout",
          "text": [
            "epoch: 0, cost: 3.537569\n",
            "epoch: 300, cost: 0.029512\n",
            "epoch: 600, cost: 0.011618\n",
            "epoch: 900, cost: 0.006256\n",
            "epoch: 1200, cost: 0.003919\n",
            "epoch: 1500, cost: 0.002677\n",
            "epoch: 1800, cost: 0.001934\n",
            "epoch: 2100, cost: 0.001452\n",
            "epoch: 2400, cost: 0.001120\n",
            "epoch: 2700, cost: 0.000882\n",
            "epoch: 3000, cost: 0.000706\n"
          ]
        }
      ]
    },
    {
      "cell_type": "markdown",
      "metadata": {
        "id": "h-gRqSiZrU5k"
      },
      "source": [
        "# Softmax Regression with Sklearn"
      ]
    },
    {
      "cell_type": "code",
      "metadata": {
        "colab": {
          "base_uri": "https://localhost:8080/"
        },
        "id": "5jAMZiUjeRN2",
        "outputId": "65ff7bc2-8f5f-46e6-a4ba-644ac1ebf13f"
      },
      "source": [
        "import numpy as np\n",
        "from sklearn.linear_model import LogisticRegression\n",
        "\n",
        "x_train = np.array([[1, 2, 1, 1], [2, 1, 3, 2], [3, 1, 3, 4], [4, 1, 5, 5], [1, 7, 5, 5], [1, 2, 5, 6], [1, 6, 6, 6], [1, 7, 7, 7]])\n",
        "y_train = np.array([2, 2, 2, 1, 1, 1, 0, 0])\n",
        "\n",
        "logistic = LogisticRegression()\n",
        "logistic.fit(x_train, y_train)\n",
        "\n",
        "pred = logistic.predict([[1, 11, 10, 9], [1, 3, 4, 3], [1, 1, 0, 1]])\n",
        "print(pred)"
      ],
      "execution_count": 10,
      "outputs": [
        {
          "output_type": "stream",
          "name": "stdout",
          "text": [
            "[0 2 2]\n"
          ]
        }
      ]
    },
    {
      "cell_type": "code",
      "metadata": {
        "id": "prfGVyuwlsbD"
      },
      "source": [
        ""
      ],
      "execution_count": 10,
      "outputs": []
    }
  ]
}