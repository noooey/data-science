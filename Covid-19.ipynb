{
  "nbformat": 4,
  "nbformat_minor": 0,
  "metadata": {
    "colab": {
      "name": "박규연_20203065_p01.ipynb",
      "provenance": [],
      "collapsed_sections": []
    },
    "kernelspec": {
      "name": "python3",
      "display_name": "Python 3"
    },
    "language_info": {
      "name": "python"
    }
  },
  "cells": [
    {
      "cell_type": "code",
      "metadata": {
        "id": "HDEbtJ2si4XW"
      },
      "source": [
        "import numpy as np\n",
        "import pandas as pd\n",
        "import matplotlib.pyplot as plt\n",
        "\n",
        "%matplotlib inline"
      ],
      "execution_count": 1,
      "outputs": []
    },
    {
      "cell_type": "markdown",
      "metadata": {
        "id": "ZtVNtC6KmYzP"
      },
      "source": [
        "## Task 1. (12 점) csv 파일을 다운로드 받고 pandas를 이용하여 불러오기"
      ]
    },
    {
      "cell_type": "markdown",
      "metadata": {
        "id": "XGSifruQltE6"
      },
      "source": [
        "#### Task 1-1. (6 점) 데이터 불러오기"
      ]
    },
    {
      "cell_type": "code",
      "metadata": {
        "colab": {
          "base_uri": "https://localhost:8080/",
          "height": 313
        },
        "id": "DZiJz7b8jXkl",
        "outputId": "174e75c6-1e7f-4f72-d45f-e64711c61f66"
      },
      "source": [
        "covid_df = pd.read_csv(\"./owid-covid-data.csv\")\n",
        "covid_df.head(5)"
      ],
      "execution_count": 2,
      "outputs": [
        {
          "output_type": "execute_result",
          "data": {
            "text/html": [
              "<div>\n",
              "<style scoped>\n",
              "    .dataframe tbody tr th:only-of-type {\n",
              "        vertical-align: middle;\n",
              "    }\n",
              "\n",
              "    .dataframe tbody tr th {\n",
              "        vertical-align: top;\n",
              "    }\n",
              "\n",
              "    .dataframe thead th {\n",
              "        text-align: right;\n",
              "    }\n",
              "</style>\n",
              "<table border=\"1\" class=\"dataframe\">\n",
              "  <thead>\n",
              "    <tr style=\"text-align: right;\">\n",
              "      <th></th>\n",
              "      <th>iso_code</th>\n",
              "      <th>continent</th>\n",
              "      <th>location</th>\n",
              "      <th>date</th>\n",
              "      <th>total_cases</th>\n",
              "      <th>new_cases</th>\n",
              "      <th>new_cases_smoothed</th>\n",
              "      <th>total_deaths</th>\n",
              "      <th>new_deaths</th>\n",
              "      <th>new_deaths_smoothed</th>\n",
              "      <th>total_cases_per_million</th>\n",
              "      <th>new_cases_per_million</th>\n",
              "      <th>new_cases_smoothed_per_million</th>\n",
              "      <th>total_deaths_per_million</th>\n",
              "      <th>new_deaths_per_million</th>\n",
              "      <th>new_deaths_smoothed_per_million</th>\n",
              "      <th>reproduction_rate</th>\n",
              "      <th>icu_patients</th>\n",
              "      <th>icu_patients_per_million</th>\n",
              "      <th>hosp_patients</th>\n",
              "      <th>hosp_patients_per_million</th>\n",
              "      <th>weekly_icu_admissions</th>\n",
              "      <th>weekly_icu_admissions_per_million</th>\n",
              "      <th>weekly_hosp_admissions</th>\n",
              "      <th>weekly_hosp_admissions_per_million</th>\n",
              "      <th>new_tests</th>\n",
              "      <th>total_tests</th>\n",
              "      <th>total_tests_per_thousand</th>\n",
              "      <th>new_tests_per_thousand</th>\n",
              "      <th>new_tests_smoothed</th>\n",
              "      <th>new_tests_smoothed_per_thousand</th>\n",
              "      <th>positive_rate</th>\n",
              "      <th>tests_per_case</th>\n",
              "      <th>tests_units</th>\n",
              "      <th>total_vaccinations</th>\n",
              "      <th>people_vaccinated</th>\n",
              "      <th>people_fully_vaccinated</th>\n",
              "      <th>total_boosters</th>\n",
              "      <th>new_vaccinations</th>\n",
              "      <th>new_vaccinations_smoothed</th>\n",
              "      <th>total_vaccinations_per_hundred</th>\n",
              "      <th>people_vaccinated_per_hundred</th>\n",
              "      <th>people_fully_vaccinated_per_hundred</th>\n",
              "      <th>total_boosters_per_hundred</th>\n",
              "      <th>new_vaccinations_smoothed_per_million</th>\n",
              "      <th>stringency_index</th>\n",
              "      <th>population</th>\n",
              "      <th>population_density</th>\n",
              "      <th>median_age</th>\n",
              "      <th>aged_65_older</th>\n",
              "      <th>aged_70_older</th>\n",
              "      <th>gdp_per_capita</th>\n",
              "      <th>extreme_poverty</th>\n",
              "      <th>cardiovasc_death_rate</th>\n",
              "      <th>diabetes_prevalence</th>\n",
              "      <th>female_smokers</th>\n",
              "      <th>male_smokers</th>\n",
              "      <th>handwashing_facilities</th>\n",
              "      <th>hospital_beds_per_thousand</th>\n",
              "      <th>life_expectancy</th>\n",
              "      <th>human_development_index</th>\n",
              "      <th>excess_mortality_cumulative_absolute</th>\n",
              "      <th>excess_mortality_cumulative</th>\n",
              "      <th>excess_mortality</th>\n",
              "      <th>excess_mortality_cumulative_per_million</th>\n",
              "    </tr>\n",
              "  </thead>\n",
              "  <tbody>\n",
              "    <tr>\n",
              "      <th>0</th>\n",
              "      <td>AFG</td>\n",
              "      <td>Asia</td>\n",
              "      <td>Afghanistan</td>\n",
              "      <td>2020-02-24</td>\n",
              "      <td>5.0</td>\n",
              "      <td>5.0</td>\n",
              "      <td>NaN</td>\n",
              "      <td>NaN</td>\n",
              "      <td>NaN</td>\n",
              "      <td>NaN</td>\n",
              "      <td>0.126</td>\n",
              "      <td>0.126</td>\n",
              "      <td>NaN</td>\n",
              "      <td>NaN</td>\n",
              "      <td>NaN</td>\n",
              "      <td>NaN</td>\n",
              "      <td>NaN</td>\n",
              "      <td>NaN</td>\n",
              "      <td>NaN</td>\n",
              "      <td>NaN</td>\n",
              "      <td>NaN</td>\n",
              "      <td>NaN</td>\n",
              "      <td>NaN</td>\n",
              "      <td>NaN</td>\n",
              "      <td>NaN</td>\n",
              "      <td>NaN</td>\n",
              "      <td>NaN</td>\n",
              "      <td>NaN</td>\n",
              "      <td>NaN</td>\n",
              "      <td>NaN</td>\n",
              "      <td>NaN</td>\n",
              "      <td>NaN</td>\n",
              "      <td>NaN</td>\n",
              "      <td>NaN</td>\n",
              "      <td>NaN</td>\n",
              "      <td>NaN</td>\n",
              "      <td>NaN</td>\n",
              "      <td>NaN</td>\n",
              "      <td>NaN</td>\n",
              "      <td>NaN</td>\n",
              "      <td>NaN</td>\n",
              "      <td>NaN</td>\n",
              "      <td>NaN</td>\n",
              "      <td>NaN</td>\n",
              "      <td>NaN</td>\n",
              "      <td>8.33</td>\n",
              "      <td>39835428.0</td>\n",
              "      <td>54.422</td>\n",
              "      <td>18.6</td>\n",
              "      <td>2.581</td>\n",
              "      <td>1.337</td>\n",
              "      <td>1803.987</td>\n",
              "      <td>NaN</td>\n",
              "      <td>597.029</td>\n",
              "      <td>9.59</td>\n",
              "      <td>NaN</td>\n",
              "      <td>NaN</td>\n",
              "      <td>37.746</td>\n",
              "      <td>0.5</td>\n",
              "      <td>64.83</td>\n",
              "      <td>0.511</td>\n",
              "      <td>NaN</td>\n",
              "      <td>NaN</td>\n",
              "      <td>NaN</td>\n",
              "      <td>NaN</td>\n",
              "    </tr>\n",
              "    <tr>\n",
              "      <th>1</th>\n",
              "      <td>AFG</td>\n",
              "      <td>Asia</td>\n",
              "      <td>Afghanistan</td>\n",
              "      <td>2020-02-25</td>\n",
              "      <td>5.0</td>\n",
              "      <td>0.0</td>\n",
              "      <td>NaN</td>\n",
              "      <td>NaN</td>\n",
              "      <td>NaN</td>\n",
              "      <td>NaN</td>\n",
              "      <td>0.126</td>\n",
              "      <td>0.000</td>\n",
              "      <td>NaN</td>\n",
              "      <td>NaN</td>\n",
              "      <td>NaN</td>\n",
              "      <td>NaN</td>\n",
              "      <td>NaN</td>\n",
              "      <td>NaN</td>\n",
              "      <td>NaN</td>\n",
              "      <td>NaN</td>\n",
              "      <td>NaN</td>\n",
              "      <td>NaN</td>\n",
              "      <td>NaN</td>\n",
              "      <td>NaN</td>\n",
              "      <td>NaN</td>\n",
              "      <td>NaN</td>\n",
              "      <td>NaN</td>\n",
              "      <td>NaN</td>\n",
              "      <td>NaN</td>\n",
              "      <td>NaN</td>\n",
              "      <td>NaN</td>\n",
              "      <td>NaN</td>\n",
              "      <td>NaN</td>\n",
              "      <td>NaN</td>\n",
              "      <td>NaN</td>\n",
              "      <td>NaN</td>\n",
              "      <td>NaN</td>\n",
              "      <td>NaN</td>\n",
              "      <td>NaN</td>\n",
              "      <td>NaN</td>\n",
              "      <td>NaN</td>\n",
              "      <td>NaN</td>\n",
              "      <td>NaN</td>\n",
              "      <td>NaN</td>\n",
              "      <td>NaN</td>\n",
              "      <td>8.33</td>\n",
              "      <td>39835428.0</td>\n",
              "      <td>54.422</td>\n",
              "      <td>18.6</td>\n",
              "      <td>2.581</td>\n",
              "      <td>1.337</td>\n",
              "      <td>1803.987</td>\n",
              "      <td>NaN</td>\n",
              "      <td>597.029</td>\n",
              "      <td>9.59</td>\n",
              "      <td>NaN</td>\n",
              "      <td>NaN</td>\n",
              "      <td>37.746</td>\n",
              "      <td>0.5</td>\n",
              "      <td>64.83</td>\n",
              "      <td>0.511</td>\n",
              "      <td>NaN</td>\n",
              "      <td>NaN</td>\n",
              "      <td>NaN</td>\n",
              "      <td>NaN</td>\n",
              "    </tr>\n",
              "    <tr>\n",
              "      <th>2</th>\n",
              "      <td>AFG</td>\n",
              "      <td>Asia</td>\n",
              "      <td>Afghanistan</td>\n",
              "      <td>2020-02-26</td>\n",
              "      <td>5.0</td>\n",
              "      <td>0.0</td>\n",
              "      <td>NaN</td>\n",
              "      <td>NaN</td>\n",
              "      <td>NaN</td>\n",
              "      <td>NaN</td>\n",
              "      <td>0.126</td>\n",
              "      <td>0.000</td>\n",
              "      <td>NaN</td>\n",
              "      <td>NaN</td>\n",
              "      <td>NaN</td>\n",
              "      <td>NaN</td>\n",
              "      <td>NaN</td>\n",
              "      <td>NaN</td>\n",
              "      <td>NaN</td>\n",
              "      <td>NaN</td>\n",
              "      <td>NaN</td>\n",
              "      <td>NaN</td>\n",
              "      <td>NaN</td>\n",
              "      <td>NaN</td>\n",
              "      <td>NaN</td>\n",
              "      <td>NaN</td>\n",
              "      <td>NaN</td>\n",
              "      <td>NaN</td>\n",
              "      <td>NaN</td>\n",
              "      <td>NaN</td>\n",
              "      <td>NaN</td>\n",
              "      <td>NaN</td>\n",
              "      <td>NaN</td>\n",
              "      <td>NaN</td>\n",
              "      <td>NaN</td>\n",
              "      <td>NaN</td>\n",
              "      <td>NaN</td>\n",
              "      <td>NaN</td>\n",
              "      <td>NaN</td>\n",
              "      <td>NaN</td>\n",
              "      <td>NaN</td>\n",
              "      <td>NaN</td>\n",
              "      <td>NaN</td>\n",
              "      <td>NaN</td>\n",
              "      <td>NaN</td>\n",
              "      <td>8.33</td>\n",
              "      <td>39835428.0</td>\n",
              "      <td>54.422</td>\n",
              "      <td>18.6</td>\n",
              "      <td>2.581</td>\n",
              "      <td>1.337</td>\n",
              "      <td>1803.987</td>\n",
              "      <td>NaN</td>\n",
              "      <td>597.029</td>\n",
              "      <td>9.59</td>\n",
              "      <td>NaN</td>\n",
              "      <td>NaN</td>\n",
              "      <td>37.746</td>\n",
              "      <td>0.5</td>\n",
              "      <td>64.83</td>\n",
              "      <td>0.511</td>\n",
              "      <td>NaN</td>\n",
              "      <td>NaN</td>\n",
              "      <td>NaN</td>\n",
              "      <td>NaN</td>\n",
              "    </tr>\n",
              "    <tr>\n",
              "      <th>3</th>\n",
              "      <td>AFG</td>\n",
              "      <td>Asia</td>\n",
              "      <td>Afghanistan</td>\n",
              "      <td>2020-02-27</td>\n",
              "      <td>5.0</td>\n",
              "      <td>0.0</td>\n",
              "      <td>NaN</td>\n",
              "      <td>NaN</td>\n",
              "      <td>NaN</td>\n",
              "      <td>NaN</td>\n",
              "      <td>0.126</td>\n",
              "      <td>0.000</td>\n",
              "      <td>NaN</td>\n",
              "      <td>NaN</td>\n",
              "      <td>NaN</td>\n",
              "      <td>NaN</td>\n",
              "      <td>NaN</td>\n",
              "      <td>NaN</td>\n",
              "      <td>NaN</td>\n",
              "      <td>NaN</td>\n",
              "      <td>NaN</td>\n",
              "      <td>NaN</td>\n",
              "      <td>NaN</td>\n",
              "      <td>NaN</td>\n",
              "      <td>NaN</td>\n",
              "      <td>NaN</td>\n",
              "      <td>NaN</td>\n",
              "      <td>NaN</td>\n",
              "      <td>NaN</td>\n",
              "      <td>NaN</td>\n",
              "      <td>NaN</td>\n",
              "      <td>NaN</td>\n",
              "      <td>NaN</td>\n",
              "      <td>NaN</td>\n",
              "      <td>NaN</td>\n",
              "      <td>NaN</td>\n",
              "      <td>NaN</td>\n",
              "      <td>NaN</td>\n",
              "      <td>NaN</td>\n",
              "      <td>NaN</td>\n",
              "      <td>NaN</td>\n",
              "      <td>NaN</td>\n",
              "      <td>NaN</td>\n",
              "      <td>NaN</td>\n",
              "      <td>NaN</td>\n",
              "      <td>8.33</td>\n",
              "      <td>39835428.0</td>\n",
              "      <td>54.422</td>\n",
              "      <td>18.6</td>\n",
              "      <td>2.581</td>\n",
              "      <td>1.337</td>\n",
              "      <td>1803.987</td>\n",
              "      <td>NaN</td>\n",
              "      <td>597.029</td>\n",
              "      <td>9.59</td>\n",
              "      <td>NaN</td>\n",
              "      <td>NaN</td>\n",
              "      <td>37.746</td>\n",
              "      <td>0.5</td>\n",
              "      <td>64.83</td>\n",
              "      <td>0.511</td>\n",
              "      <td>NaN</td>\n",
              "      <td>NaN</td>\n",
              "      <td>NaN</td>\n",
              "      <td>NaN</td>\n",
              "    </tr>\n",
              "    <tr>\n",
              "      <th>4</th>\n",
              "      <td>AFG</td>\n",
              "      <td>Asia</td>\n",
              "      <td>Afghanistan</td>\n",
              "      <td>2020-02-28</td>\n",
              "      <td>5.0</td>\n",
              "      <td>0.0</td>\n",
              "      <td>NaN</td>\n",
              "      <td>NaN</td>\n",
              "      <td>NaN</td>\n",
              "      <td>NaN</td>\n",
              "      <td>0.126</td>\n",
              "      <td>0.000</td>\n",
              "      <td>NaN</td>\n",
              "      <td>NaN</td>\n",
              "      <td>NaN</td>\n",
              "      <td>NaN</td>\n",
              "      <td>NaN</td>\n",
              "      <td>NaN</td>\n",
              "      <td>NaN</td>\n",
              "      <td>NaN</td>\n",
              "      <td>NaN</td>\n",
              "      <td>NaN</td>\n",
              "      <td>NaN</td>\n",
              "      <td>NaN</td>\n",
              "      <td>NaN</td>\n",
              "      <td>NaN</td>\n",
              "      <td>NaN</td>\n",
              "      <td>NaN</td>\n",
              "      <td>NaN</td>\n",
              "      <td>NaN</td>\n",
              "      <td>NaN</td>\n",
              "      <td>NaN</td>\n",
              "      <td>NaN</td>\n",
              "      <td>NaN</td>\n",
              "      <td>NaN</td>\n",
              "      <td>NaN</td>\n",
              "      <td>NaN</td>\n",
              "      <td>NaN</td>\n",
              "      <td>NaN</td>\n",
              "      <td>NaN</td>\n",
              "      <td>NaN</td>\n",
              "      <td>NaN</td>\n",
              "      <td>NaN</td>\n",
              "      <td>NaN</td>\n",
              "      <td>NaN</td>\n",
              "      <td>8.33</td>\n",
              "      <td>39835428.0</td>\n",
              "      <td>54.422</td>\n",
              "      <td>18.6</td>\n",
              "      <td>2.581</td>\n",
              "      <td>1.337</td>\n",
              "      <td>1803.987</td>\n",
              "      <td>NaN</td>\n",
              "      <td>597.029</td>\n",
              "      <td>9.59</td>\n",
              "      <td>NaN</td>\n",
              "      <td>NaN</td>\n",
              "      <td>37.746</td>\n",
              "      <td>0.5</td>\n",
              "      <td>64.83</td>\n",
              "      <td>0.511</td>\n",
              "      <td>NaN</td>\n",
              "      <td>NaN</td>\n",
              "      <td>NaN</td>\n",
              "      <td>NaN</td>\n",
              "    </tr>\n",
              "  </tbody>\n",
              "</table>\n",
              "</div>"
            ],
            "text/plain": [
              "  iso_code continent  ... excess_mortality excess_mortality_cumulative_per_million\n",
              "0      AFG      Asia  ...              NaN                                     NaN\n",
              "1      AFG      Asia  ...              NaN                                     NaN\n",
              "2      AFG      Asia  ...              NaN                                     NaN\n",
              "3      AFG      Asia  ...              NaN                                     NaN\n",
              "4      AFG      Asia  ...              NaN                                     NaN\n",
              "\n",
              "[5 rows x 65 columns]"
            ]
          },
          "metadata": {},
          "execution_count": 2
        }
      ]
    },
    {
      "cell_type": "markdown",
      "metadata": {
        "id": "gfGRo6GBlzM4"
      },
      "source": [
        "#### Task 1-2. (6 점) ‘date’ 열의 데이터를 날짜 타입으로 변경하기"
      ]
    },
    {
      "cell_type": "code",
      "metadata": {
        "colab": {
          "base_uri": "https://localhost:8080/"
        },
        "id": "Q3TYT0H_l1Xx",
        "outputId": "e6a202f1-b211-4780-e34b-04749d8f32e5"
      },
      "source": [
        "print(covid_df['date'].dtype)"
      ],
      "execution_count": 3,
      "outputs": [
        {
          "output_type": "stream",
          "name": "stdout",
          "text": [
            "object\n"
          ]
        }
      ]
    },
    {
      "cell_type": "code",
      "metadata": {
        "colab": {
          "base_uri": "https://localhost:8080/"
        },
        "id": "c5ue04h-kDX0",
        "outputId": "1a274b61-9a46-4253-df64-60c1054bc449"
      },
      "source": [
        "covid_df['date'] = pd.to_datetime(covid_df['date'])\n",
        "print(covid_df['date'].dtype)"
      ],
      "execution_count": 4,
      "outputs": [
        {
          "output_type": "stream",
          "name": "stdout",
          "text": [
            "datetime64[ns]\n"
          ]
        }
      ]
    },
    {
      "cell_type": "code",
      "metadata": {
        "colab": {
          "base_uri": "https://localhost:8080/",
          "height": 313
        },
        "id": "bWngQfEcdBJE",
        "outputId": "d88aa8f6-2515-45e9-ac0a-b07b521feef8"
      },
      "source": [
        "covid_df.head(5)"
      ],
      "execution_count": 5,
      "outputs": [
        {
          "output_type": "execute_result",
          "data": {
            "text/html": [
              "<div>\n",
              "<style scoped>\n",
              "    .dataframe tbody tr th:only-of-type {\n",
              "        vertical-align: middle;\n",
              "    }\n",
              "\n",
              "    .dataframe tbody tr th {\n",
              "        vertical-align: top;\n",
              "    }\n",
              "\n",
              "    .dataframe thead th {\n",
              "        text-align: right;\n",
              "    }\n",
              "</style>\n",
              "<table border=\"1\" class=\"dataframe\">\n",
              "  <thead>\n",
              "    <tr style=\"text-align: right;\">\n",
              "      <th></th>\n",
              "      <th>iso_code</th>\n",
              "      <th>continent</th>\n",
              "      <th>location</th>\n",
              "      <th>date</th>\n",
              "      <th>total_cases</th>\n",
              "      <th>new_cases</th>\n",
              "      <th>new_cases_smoothed</th>\n",
              "      <th>total_deaths</th>\n",
              "      <th>new_deaths</th>\n",
              "      <th>new_deaths_smoothed</th>\n",
              "      <th>total_cases_per_million</th>\n",
              "      <th>new_cases_per_million</th>\n",
              "      <th>new_cases_smoothed_per_million</th>\n",
              "      <th>total_deaths_per_million</th>\n",
              "      <th>new_deaths_per_million</th>\n",
              "      <th>new_deaths_smoothed_per_million</th>\n",
              "      <th>reproduction_rate</th>\n",
              "      <th>icu_patients</th>\n",
              "      <th>icu_patients_per_million</th>\n",
              "      <th>hosp_patients</th>\n",
              "      <th>hosp_patients_per_million</th>\n",
              "      <th>weekly_icu_admissions</th>\n",
              "      <th>weekly_icu_admissions_per_million</th>\n",
              "      <th>weekly_hosp_admissions</th>\n",
              "      <th>weekly_hosp_admissions_per_million</th>\n",
              "      <th>new_tests</th>\n",
              "      <th>total_tests</th>\n",
              "      <th>total_tests_per_thousand</th>\n",
              "      <th>new_tests_per_thousand</th>\n",
              "      <th>new_tests_smoothed</th>\n",
              "      <th>new_tests_smoothed_per_thousand</th>\n",
              "      <th>positive_rate</th>\n",
              "      <th>tests_per_case</th>\n",
              "      <th>tests_units</th>\n",
              "      <th>total_vaccinations</th>\n",
              "      <th>people_vaccinated</th>\n",
              "      <th>people_fully_vaccinated</th>\n",
              "      <th>total_boosters</th>\n",
              "      <th>new_vaccinations</th>\n",
              "      <th>new_vaccinations_smoothed</th>\n",
              "      <th>total_vaccinations_per_hundred</th>\n",
              "      <th>people_vaccinated_per_hundred</th>\n",
              "      <th>people_fully_vaccinated_per_hundred</th>\n",
              "      <th>total_boosters_per_hundred</th>\n",
              "      <th>new_vaccinations_smoothed_per_million</th>\n",
              "      <th>stringency_index</th>\n",
              "      <th>population</th>\n",
              "      <th>population_density</th>\n",
              "      <th>median_age</th>\n",
              "      <th>aged_65_older</th>\n",
              "      <th>aged_70_older</th>\n",
              "      <th>gdp_per_capita</th>\n",
              "      <th>extreme_poverty</th>\n",
              "      <th>cardiovasc_death_rate</th>\n",
              "      <th>diabetes_prevalence</th>\n",
              "      <th>female_smokers</th>\n",
              "      <th>male_smokers</th>\n",
              "      <th>handwashing_facilities</th>\n",
              "      <th>hospital_beds_per_thousand</th>\n",
              "      <th>life_expectancy</th>\n",
              "      <th>human_development_index</th>\n",
              "      <th>excess_mortality_cumulative_absolute</th>\n",
              "      <th>excess_mortality_cumulative</th>\n",
              "      <th>excess_mortality</th>\n",
              "      <th>excess_mortality_cumulative_per_million</th>\n",
              "    </tr>\n",
              "  </thead>\n",
              "  <tbody>\n",
              "    <tr>\n",
              "      <th>0</th>\n",
              "      <td>AFG</td>\n",
              "      <td>Asia</td>\n",
              "      <td>Afghanistan</td>\n",
              "      <td>2020-02-24</td>\n",
              "      <td>5.0</td>\n",
              "      <td>5.0</td>\n",
              "      <td>NaN</td>\n",
              "      <td>NaN</td>\n",
              "      <td>NaN</td>\n",
              "      <td>NaN</td>\n",
              "      <td>0.126</td>\n",
              "      <td>0.126</td>\n",
              "      <td>NaN</td>\n",
              "      <td>NaN</td>\n",
              "      <td>NaN</td>\n",
              "      <td>NaN</td>\n",
              "      <td>NaN</td>\n",
              "      <td>NaN</td>\n",
              "      <td>NaN</td>\n",
              "      <td>NaN</td>\n",
              "      <td>NaN</td>\n",
              "      <td>NaN</td>\n",
              "      <td>NaN</td>\n",
              "      <td>NaN</td>\n",
              "      <td>NaN</td>\n",
              "      <td>NaN</td>\n",
              "      <td>NaN</td>\n",
              "      <td>NaN</td>\n",
              "      <td>NaN</td>\n",
              "      <td>NaN</td>\n",
              "      <td>NaN</td>\n",
              "      <td>NaN</td>\n",
              "      <td>NaN</td>\n",
              "      <td>NaN</td>\n",
              "      <td>NaN</td>\n",
              "      <td>NaN</td>\n",
              "      <td>NaN</td>\n",
              "      <td>NaN</td>\n",
              "      <td>NaN</td>\n",
              "      <td>NaN</td>\n",
              "      <td>NaN</td>\n",
              "      <td>NaN</td>\n",
              "      <td>NaN</td>\n",
              "      <td>NaN</td>\n",
              "      <td>NaN</td>\n",
              "      <td>8.33</td>\n",
              "      <td>39835428.0</td>\n",
              "      <td>54.422</td>\n",
              "      <td>18.6</td>\n",
              "      <td>2.581</td>\n",
              "      <td>1.337</td>\n",
              "      <td>1803.987</td>\n",
              "      <td>NaN</td>\n",
              "      <td>597.029</td>\n",
              "      <td>9.59</td>\n",
              "      <td>NaN</td>\n",
              "      <td>NaN</td>\n",
              "      <td>37.746</td>\n",
              "      <td>0.5</td>\n",
              "      <td>64.83</td>\n",
              "      <td>0.511</td>\n",
              "      <td>NaN</td>\n",
              "      <td>NaN</td>\n",
              "      <td>NaN</td>\n",
              "      <td>NaN</td>\n",
              "    </tr>\n",
              "    <tr>\n",
              "      <th>1</th>\n",
              "      <td>AFG</td>\n",
              "      <td>Asia</td>\n",
              "      <td>Afghanistan</td>\n",
              "      <td>2020-02-25</td>\n",
              "      <td>5.0</td>\n",
              "      <td>0.0</td>\n",
              "      <td>NaN</td>\n",
              "      <td>NaN</td>\n",
              "      <td>NaN</td>\n",
              "      <td>NaN</td>\n",
              "      <td>0.126</td>\n",
              "      <td>0.000</td>\n",
              "      <td>NaN</td>\n",
              "      <td>NaN</td>\n",
              "      <td>NaN</td>\n",
              "      <td>NaN</td>\n",
              "      <td>NaN</td>\n",
              "      <td>NaN</td>\n",
              "      <td>NaN</td>\n",
              "      <td>NaN</td>\n",
              "      <td>NaN</td>\n",
              "      <td>NaN</td>\n",
              "      <td>NaN</td>\n",
              "      <td>NaN</td>\n",
              "      <td>NaN</td>\n",
              "      <td>NaN</td>\n",
              "      <td>NaN</td>\n",
              "      <td>NaN</td>\n",
              "      <td>NaN</td>\n",
              "      <td>NaN</td>\n",
              "      <td>NaN</td>\n",
              "      <td>NaN</td>\n",
              "      <td>NaN</td>\n",
              "      <td>NaN</td>\n",
              "      <td>NaN</td>\n",
              "      <td>NaN</td>\n",
              "      <td>NaN</td>\n",
              "      <td>NaN</td>\n",
              "      <td>NaN</td>\n",
              "      <td>NaN</td>\n",
              "      <td>NaN</td>\n",
              "      <td>NaN</td>\n",
              "      <td>NaN</td>\n",
              "      <td>NaN</td>\n",
              "      <td>NaN</td>\n",
              "      <td>8.33</td>\n",
              "      <td>39835428.0</td>\n",
              "      <td>54.422</td>\n",
              "      <td>18.6</td>\n",
              "      <td>2.581</td>\n",
              "      <td>1.337</td>\n",
              "      <td>1803.987</td>\n",
              "      <td>NaN</td>\n",
              "      <td>597.029</td>\n",
              "      <td>9.59</td>\n",
              "      <td>NaN</td>\n",
              "      <td>NaN</td>\n",
              "      <td>37.746</td>\n",
              "      <td>0.5</td>\n",
              "      <td>64.83</td>\n",
              "      <td>0.511</td>\n",
              "      <td>NaN</td>\n",
              "      <td>NaN</td>\n",
              "      <td>NaN</td>\n",
              "      <td>NaN</td>\n",
              "    </tr>\n",
              "    <tr>\n",
              "      <th>2</th>\n",
              "      <td>AFG</td>\n",
              "      <td>Asia</td>\n",
              "      <td>Afghanistan</td>\n",
              "      <td>2020-02-26</td>\n",
              "      <td>5.0</td>\n",
              "      <td>0.0</td>\n",
              "      <td>NaN</td>\n",
              "      <td>NaN</td>\n",
              "      <td>NaN</td>\n",
              "      <td>NaN</td>\n",
              "      <td>0.126</td>\n",
              "      <td>0.000</td>\n",
              "      <td>NaN</td>\n",
              "      <td>NaN</td>\n",
              "      <td>NaN</td>\n",
              "      <td>NaN</td>\n",
              "      <td>NaN</td>\n",
              "      <td>NaN</td>\n",
              "      <td>NaN</td>\n",
              "      <td>NaN</td>\n",
              "      <td>NaN</td>\n",
              "      <td>NaN</td>\n",
              "      <td>NaN</td>\n",
              "      <td>NaN</td>\n",
              "      <td>NaN</td>\n",
              "      <td>NaN</td>\n",
              "      <td>NaN</td>\n",
              "      <td>NaN</td>\n",
              "      <td>NaN</td>\n",
              "      <td>NaN</td>\n",
              "      <td>NaN</td>\n",
              "      <td>NaN</td>\n",
              "      <td>NaN</td>\n",
              "      <td>NaN</td>\n",
              "      <td>NaN</td>\n",
              "      <td>NaN</td>\n",
              "      <td>NaN</td>\n",
              "      <td>NaN</td>\n",
              "      <td>NaN</td>\n",
              "      <td>NaN</td>\n",
              "      <td>NaN</td>\n",
              "      <td>NaN</td>\n",
              "      <td>NaN</td>\n",
              "      <td>NaN</td>\n",
              "      <td>NaN</td>\n",
              "      <td>8.33</td>\n",
              "      <td>39835428.0</td>\n",
              "      <td>54.422</td>\n",
              "      <td>18.6</td>\n",
              "      <td>2.581</td>\n",
              "      <td>1.337</td>\n",
              "      <td>1803.987</td>\n",
              "      <td>NaN</td>\n",
              "      <td>597.029</td>\n",
              "      <td>9.59</td>\n",
              "      <td>NaN</td>\n",
              "      <td>NaN</td>\n",
              "      <td>37.746</td>\n",
              "      <td>0.5</td>\n",
              "      <td>64.83</td>\n",
              "      <td>0.511</td>\n",
              "      <td>NaN</td>\n",
              "      <td>NaN</td>\n",
              "      <td>NaN</td>\n",
              "      <td>NaN</td>\n",
              "    </tr>\n",
              "    <tr>\n",
              "      <th>3</th>\n",
              "      <td>AFG</td>\n",
              "      <td>Asia</td>\n",
              "      <td>Afghanistan</td>\n",
              "      <td>2020-02-27</td>\n",
              "      <td>5.0</td>\n",
              "      <td>0.0</td>\n",
              "      <td>NaN</td>\n",
              "      <td>NaN</td>\n",
              "      <td>NaN</td>\n",
              "      <td>NaN</td>\n",
              "      <td>0.126</td>\n",
              "      <td>0.000</td>\n",
              "      <td>NaN</td>\n",
              "      <td>NaN</td>\n",
              "      <td>NaN</td>\n",
              "      <td>NaN</td>\n",
              "      <td>NaN</td>\n",
              "      <td>NaN</td>\n",
              "      <td>NaN</td>\n",
              "      <td>NaN</td>\n",
              "      <td>NaN</td>\n",
              "      <td>NaN</td>\n",
              "      <td>NaN</td>\n",
              "      <td>NaN</td>\n",
              "      <td>NaN</td>\n",
              "      <td>NaN</td>\n",
              "      <td>NaN</td>\n",
              "      <td>NaN</td>\n",
              "      <td>NaN</td>\n",
              "      <td>NaN</td>\n",
              "      <td>NaN</td>\n",
              "      <td>NaN</td>\n",
              "      <td>NaN</td>\n",
              "      <td>NaN</td>\n",
              "      <td>NaN</td>\n",
              "      <td>NaN</td>\n",
              "      <td>NaN</td>\n",
              "      <td>NaN</td>\n",
              "      <td>NaN</td>\n",
              "      <td>NaN</td>\n",
              "      <td>NaN</td>\n",
              "      <td>NaN</td>\n",
              "      <td>NaN</td>\n",
              "      <td>NaN</td>\n",
              "      <td>NaN</td>\n",
              "      <td>8.33</td>\n",
              "      <td>39835428.0</td>\n",
              "      <td>54.422</td>\n",
              "      <td>18.6</td>\n",
              "      <td>2.581</td>\n",
              "      <td>1.337</td>\n",
              "      <td>1803.987</td>\n",
              "      <td>NaN</td>\n",
              "      <td>597.029</td>\n",
              "      <td>9.59</td>\n",
              "      <td>NaN</td>\n",
              "      <td>NaN</td>\n",
              "      <td>37.746</td>\n",
              "      <td>0.5</td>\n",
              "      <td>64.83</td>\n",
              "      <td>0.511</td>\n",
              "      <td>NaN</td>\n",
              "      <td>NaN</td>\n",
              "      <td>NaN</td>\n",
              "      <td>NaN</td>\n",
              "    </tr>\n",
              "    <tr>\n",
              "      <th>4</th>\n",
              "      <td>AFG</td>\n",
              "      <td>Asia</td>\n",
              "      <td>Afghanistan</td>\n",
              "      <td>2020-02-28</td>\n",
              "      <td>5.0</td>\n",
              "      <td>0.0</td>\n",
              "      <td>NaN</td>\n",
              "      <td>NaN</td>\n",
              "      <td>NaN</td>\n",
              "      <td>NaN</td>\n",
              "      <td>0.126</td>\n",
              "      <td>0.000</td>\n",
              "      <td>NaN</td>\n",
              "      <td>NaN</td>\n",
              "      <td>NaN</td>\n",
              "      <td>NaN</td>\n",
              "      <td>NaN</td>\n",
              "      <td>NaN</td>\n",
              "      <td>NaN</td>\n",
              "      <td>NaN</td>\n",
              "      <td>NaN</td>\n",
              "      <td>NaN</td>\n",
              "      <td>NaN</td>\n",
              "      <td>NaN</td>\n",
              "      <td>NaN</td>\n",
              "      <td>NaN</td>\n",
              "      <td>NaN</td>\n",
              "      <td>NaN</td>\n",
              "      <td>NaN</td>\n",
              "      <td>NaN</td>\n",
              "      <td>NaN</td>\n",
              "      <td>NaN</td>\n",
              "      <td>NaN</td>\n",
              "      <td>NaN</td>\n",
              "      <td>NaN</td>\n",
              "      <td>NaN</td>\n",
              "      <td>NaN</td>\n",
              "      <td>NaN</td>\n",
              "      <td>NaN</td>\n",
              "      <td>NaN</td>\n",
              "      <td>NaN</td>\n",
              "      <td>NaN</td>\n",
              "      <td>NaN</td>\n",
              "      <td>NaN</td>\n",
              "      <td>NaN</td>\n",
              "      <td>8.33</td>\n",
              "      <td>39835428.0</td>\n",
              "      <td>54.422</td>\n",
              "      <td>18.6</td>\n",
              "      <td>2.581</td>\n",
              "      <td>1.337</td>\n",
              "      <td>1803.987</td>\n",
              "      <td>NaN</td>\n",
              "      <td>597.029</td>\n",
              "      <td>9.59</td>\n",
              "      <td>NaN</td>\n",
              "      <td>NaN</td>\n",
              "      <td>37.746</td>\n",
              "      <td>0.5</td>\n",
              "      <td>64.83</td>\n",
              "      <td>0.511</td>\n",
              "      <td>NaN</td>\n",
              "      <td>NaN</td>\n",
              "      <td>NaN</td>\n",
              "      <td>NaN</td>\n",
              "    </tr>\n",
              "  </tbody>\n",
              "</table>\n",
              "</div>"
            ],
            "text/plain": [
              "  iso_code continent  ... excess_mortality excess_mortality_cumulative_per_million\n",
              "0      AFG      Asia  ...              NaN                                     NaN\n",
              "1      AFG      Asia  ...              NaN                                     NaN\n",
              "2      AFG      Asia  ...              NaN                                     NaN\n",
              "3      AFG      Asia  ...              NaN                                     NaN\n",
              "4      AFG      Asia  ...              NaN                                     NaN\n",
              "\n",
              "[5 rows x 65 columns]"
            ]
          },
          "metadata": {},
          "execution_count": 5
        }
      ]
    },
    {
      "cell_type": "markdown",
      "metadata": {
        "id": "TUcGMNz-mQ4V"
      },
      "source": [
        "## Task 2. (32 점) (한국과 일본의 코로나 상황과 대응 차이는 어떨까?) 한국(South Korea)과 일본(Japan)의 코로나 상황 비교 시각화하기"
      ]
    },
    {
      "cell_type": "markdown",
      "metadata": {
        "id": "q5K6otUgkz6L"
      },
      "source": [
        "#### Task 2-1. (8 점) 날짜별 확진자 비율 (total_cases_per_million) 시각화"
      ]
    },
    {
      "cell_type": "code",
      "metadata": {
        "id": "DdW1WlgnXhxs"
      },
      "source": [
        "total_by_date = covid_df[['location', 'total_cases_per_million', 'date']]\n",
        "korea_by_date = total_by_date.loc[total_by_date['location'] == 'South Korea', :]\n",
        "japan_by_date = total_by_date.loc[total_by_date['location'] == 'Japan', :]"
      ],
      "execution_count": 6,
      "outputs": []
    },
    {
      "cell_type": "code",
      "metadata": {
        "colab": {
          "base_uri": "https://localhost:8080/",
          "height": 279
        },
        "id": "VnlzAOVnmQG7",
        "outputId": "034cbb3c-7813-45fc-e625-84cf86bcbaa5"
      },
      "source": [
        "plt.plot(korea_by_date['date'], korea_by_date['total_cases_per_million'], label='Korea')\n",
        "plt.plot(japan_by_date['date'], japan_by_date['total_cases_per_million'], label='Japan')\n",
        "plt.axis()\n",
        "plt.xlabel(\"date\")\n",
        "plt.ylabel(\"total_cases_per_million\")\n",
        "plt.legend()\n",
        "plt.show()"
      ],
      "execution_count": 7,
      "outputs": [
        {
          "output_type": "display_data",
          "data": {
            "image/png": "[encoded data removed]",
            "text/plain": [
              "<Figure size 432x288 with 1 Axes>"
            ]
          },
          "metadata": {
            "needs_background": "light"
          }
        }
      ]
    },
    {
      "cell_type": "markdown",
      "metadata": {
        "id": "2UoB6B2OMKUE"
      },
      "source": [
        "#### Task 2-2. (8 점) 날짜별 신규 확진자 비율 (new_cases_per_million) 시각화"
      ]
    },
    {
      "cell_type": "code",
      "metadata": {
        "id": "LXCSdmRvYOOM"
      },
      "source": [
        "new_by_date = covid_df[['location', 'new_cases_per_million', 'date']]\n",
        "knew_by_date = new_by_date.loc[new_by_date['location'] == 'South Korea', :]\n",
        "jnew_by_date = new_by_date.loc[new_by_date['location'] == 'Japan', :]"
      ],
      "execution_count": 8,
      "outputs": []
    },
    {
      "cell_type": "code",
      "metadata": {
        "colab": {
          "base_uri": "https://localhost:8080/",
          "height": 279
        },
        "id": "lXsu2fGjY9uH",
        "outputId": "8d1c16c8-3fdf-4a29-ffa9-3745a4a9ee11"
      },
      "source": [
        "plt.plot(knew_by_date['date'], knew_by_date['new_cases_per_million'], label='Korea')\n",
        "plt.plot(jnew_by_date['date'], jnew_by_date['new_cases_per_million'], label='Japan')\n",
        "plt.axis()\n",
        "plt.xlabel(\"date\")\n",
        "plt.ylabel(\"new_cases_per_million\")\n",
        "plt.legend()\n",
        "plt.show()"
      ],
      "execution_count": 9,
      "outputs": [
        {
          "output_type": "display_data",
          "data": {
            "image/png": "[encoded data removed]",
            "text/plain": [
              "<Figure size 432x288 with 1 Axes>"
            ]
          },
          "metadata": {
            "needs_background": "light"
          }
        }
      ]
    },
    {
      "cell_type": "markdown",
      "metadata": {
        "id": "D68DoqEqZQyx"
      },
      "source": [
        "#### Task 2-3. (8 점) 날짜별 백신 접종자 비율 (people_vaccinated_per_hundred) 시각화"
      ]
    },
    {
      "cell_type": "code",
      "metadata": {
        "id": "bXTIVIMlZYb6"
      },
      "source": [
        "vac_by_date = covid_df[['location', 'people_vaccinated_per_hundred', 'date']]\n",
        "kvac_by_date = vac_by_date.loc[vac_by_date['location'] == 'South Korea', :].fillna(method='ffill')\n",
        "jvac_by_date = vac_by_date.loc[vac_by_date['location'] == 'Japan', :].fillna(method='ffill')"
      ],
      "execution_count": 10,
      "outputs": []
    },
    {
      "cell_type": "code",
      "metadata": {
        "colab": {
          "base_uri": "https://localhost:8080/",
          "height": 279
        },
        "id": "2EuhbC_JaSDV",
        "outputId": "1fa42d09-600a-489a-9438-60c9a6379c65"
      },
      "source": [
        "plt.plot(kvac_by_date['date'], kvac_by_date['people_vaccinated_per_hundred'], label='Korea')\n",
        "plt.plot(jvac_by_date['date'], jvac_by_date['people_vaccinated_per_hundred'], label='Japan')\n",
        "plt.xlabel(\"date\")\n",
        "plt.ylabel(\"people_vaccinated_per_hundred\")\n",
        "plt.legend()\n",
        "plt.show()"
      ],
      "execution_count": 11,
      "outputs": [
        {
          "output_type": "display_data",
          "data": {
            "image/png": "[encoded data removed]",
            "text/plain": [
              "<Figure size 432x288 with 1 Axes>"
            ]
          },
          "metadata": {
            "needs_background": "light"
          }
        }
      ]
    },
    {
      "cell_type": "markdown",
      "metadata": {
        "id": "NYXYFMfza5Sv"
      },
      "source": [
        "#### Task 2-4. (8 점) 날짜별 백신 접종 완료자 비율 (people_fully_vaccinated_per_hundred) 시각화"
      ]
    },
    {
      "cell_type": "code",
      "metadata": {
        "id": "P3s1WuUda8gu"
      },
      "source": [
        "full_by_date = covid_df[['location', 'people_fully_vaccinated_per_hundred', 'date']]\n",
        "kful_by_date = full_by_date.loc[full_by_date['location'] == 'South Korea', :].fillna(method='ffill')\n",
        "jful_by_date = full_by_date.loc[full_by_date['location'] == 'Japan', :].fillna(method='ffill')"
      ],
      "execution_count": 12,
      "outputs": []
    },
    {
      "cell_type": "code",
      "metadata": {
        "colab": {
          "base_uri": "https://localhost:8080/",
          "height": 279
        },
        "id": "VhO3gUgvbwo0",
        "outputId": "14c322b7-8003-4214-d34d-e3fbee9280df"
      },
      "source": [
        "plt.plot(kful_by_date['date'], kful_by_date['people_fully_vaccinated_per_hundred'], label='Korea')\n",
        "plt.plot(jful_by_date['date'], jful_by_date['people_fully_vaccinated_per_hundred'], label='Japan')\n",
        "plt.axis()\n",
        "plt.xlabel(\"date\")\n",
        "plt.ylabel(\"people_fully_vaccinated_per_hundred\")\n",
        "plt.legend()\n",
        "plt.show()"
      ],
      "execution_count": 13,
      "outputs": [
        {
          "output_type": "display_data",
          "data": {
            "image/png": "[encoded data removed]",
            "text/plain": [
              "<Figure size 432x288 with 1 Axes>"
            ]
          },
          "metadata": {
            "needs_background": "light"
          }
        }
      ]
    },
    {
      "cell_type": "markdown",
      "metadata": {
        "id": "KVXcLXerb_uo"
      },
      "source": [
        "## Task 3. (31 점) (백신 접종은 사망률을 낮출까?) 백신 접종률(people_vaccinated_per_hundred)과 확진자 비율 대비 사망자 비율(total_deaths_per_million/total_cases_per_million) 사이의 상관관계 알아보기"
      ]
    },
    {
      "cell_type": "markdown",
      "metadata": {
        "id": "2iSwl-qwdIJD"
      },
      "source": [
        "#### Task 3-1. (5 점) Task 1에서 불러온 데이터에서 다음의 열만 남긴 새로운 데이터프레임 생성하기"
      ]
    },
    {
      "cell_type": "code",
      "metadata": {
        "colab": {
          "base_uri": "https://localhost:8080/",
          "height": 313
        },
        "id": "aXjetI3ZdKVa",
        "outputId": "57c59544-54c5-40da-a608-54a2de43b6a2"
      },
      "source": [
        "sur_by_vac = covid_df[['location', 'date', 'total_deaths_per_million', 'total_cases_per_million', 'people_vaccinated_per_hundred', 'human_development_index']]\n",
        "sur_by_vac.head(5)"
      ],
      "execution_count": 14,
      "outputs": [
        {
          "output_type": "execute_result",
          "data": {
            "text/html": [
              "<div>\n",
              "<style scoped>\n",
              "    .dataframe tbody tr th:only-of-type {\n",
              "        vertical-align: middle;\n",
              "    }\n",
              "\n",
              "    .dataframe tbody tr th {\n",
              "        vertical-align: top;\n",
              "    }\n",
              "\n",
              "    .dataframe thead th {\n",
              "        text-align: right;\n",
              "    }\n",
              "</style>\n",
              "<table border=\"1\" class=\"dataframe\">\n",
              "  <thead>\n",
              "    <tr style=\"text-align: right;\">\n",
              "      <th></th>\n",
              "      <th>location</th>\n",
              "      <th>date</th>\n",
              "      <th>total_deaths_per_million</th>\n",
              "      <th>total_cases_per_million</th>\n",
              "      <th>people_vaccinated_per_hundred</th>\n",
              "      <th>human_development_index</th>\n",
              "    </tr>\n",
              "  </thead>\n",
              "  <tbody>\n",
              "    <tr>\n",
              "      <th>0</th>\n",
              "      <td>Afghanistan</td>\n",
              "      <td>2020-02-24</td>\n",
              "      <td>NaN</td>\n",
              "      <td>0.126</td>\n",
              "      <td>NaN</td>\n",
              "      <td>0.511</td>\n",
              "    </tr>\n",
              "    <tr>\n",
              "      <th>1</th>\n",
              "      <td>Afghanistan</td>\n",
              "      <td>2020-02-25</td>\n",
              "      <td>NaN</td>\n",
              "      <td>0.126</td>\n",
              "      <td>NaN</td>\n",
              "      <td>0.511</td>\n",
              "    </tr>\n",
              "    <tr>\n",
              "      <th>2</th>\n",
              "      <td>Afghanistan</td>\n",
              "      <td>2020-02-26</td>\n",
              "      <td>NaN</td>\n",
              "      <td>0.126</td>\n",
              "      <td>NaN</td>\n",
              "      <td>0.511</td>\n",
              "    </tr>\n",
              "    <tr>\n",
              "      <th>3</th>\n",
              "      <td>Afghanistan</td>\n",
              "      <td>2020-02-27</td>\n",
              "      <td>NaN</td>\n",
              "      <td>0.126</td>\n",
              "      <td>NaN</td>\n",
              "      <td>0.511</td>\n",
              "    </tr>\n",
              "    <tr>\n",
              "      <th>4</th>\n",
              "      <td>Afghanistan</td>\n",
              "      <td>2020-02-28</td>\n",
              "      <td>NaN</td>\n",
              "      <td>0.126</td>\n",
              "      <td>NaN</td>\n",
              "      <td>0.511</td>\n",
              "    </tr>\n",
              "  </tbody>\n",
              "</table>\n",
              "</div>"
            ],
            "text/plain": [
              "      location  ... human_development_index\n",
              "0  Afghanistan  ...                   0.511\n",
              "1  Afghanistan  ...                   0.511\n",
              "2  Afghanistan  ...                   0.511\n",
              "3  Afghanistan  ...                   0.511\n",
              "4  Afghanistan  ...                   0.511\n",
              "\n",
              "[5 rows x 6 columns]"
            ]
          },
          "metadata": {},
          "execution_count": 14
        }
      ]
    },
    {
      "cell_type": "markdown",
      "metadata": {
        "id": "OSrg7nA_gsze"
      },
      "source": [
        "#### Task 3-2. (6 점) 각 국가별로 가장 최근 날짜의 데이터 추출하기 (Hint! pandas의 groupby와 max활용)"
      ]
    },
    {
      "cell_type": "code",
      "metadata": {
        "colab": {
          "base_uri": "https://localhost:8080/",
          "height": 649
        },
        "id": "bIwEc0CEljVx",
        "outputId": "d9f115e0-f00e-4f0f-b931-88e1d0c2f03a"
      },
      "source": [
        "by_country = sur_by_vac.groupby(by=sur_by_vac['location']).max()\n",
        "by_country"
      ],
      "execution_count": 15,
      "outputs": [
        {
          "output_type": "execute_result",
          "data": {
            "text/html": [
              "<div>\n",
              "<style scoped>\n",
              "    .dataframe tbody tr th:only-of-type {\n",
              "        vertical-align: middle;\n",
              "    }\n",
              "\n",
              "    .dataframe tbody tr th {\n",
              "        vertical-align: top;\n",
              "    }\n",
              "\n",
              "    .dataframe thead th {\n",
              "        text-align: right;\n",
              "    }\n",
              "</style>\n",
              "<table border=\"1\" class=\"dataframe\">\n",
              "  <thead>\n",
              "    <tr style=\"text-align: right;\">\n",
              "      <th></th>\n",
              "      <th>date</th>\n",
              "      <th>total_deaths_per_million</th>\n",
              "      <th>total_cases_per_million</th>\n",
              "      <th>people_vaccinated_per_hundred</th>\n",
              "      <th>human_development_index</th>\n",
              "    </tr>\n",
              "    <tr>\n",
              "      <th>location</th>\n",
              "      <th></th>\n",
              "      <th></th>\n",
              "      <th></th>\n",
              "      <th></th>\n",
              "      <th></th>\n",
              "    </tr>\n",
              "  </thead>\n",
              "  <tbody>\n",
              "    <tr>\n",
              "      <th>Afghanistan</th>\n",
              "      <td>2021-11-01</td>\n",
              "      <td>182.777</td>\n",
              "      <td>3923.241</td>\n",
              "      <td>6.06</td>\n",
              "      <td>0.511</td>\n",
              "    </tr>\n",
              "    <tr>\n",
              "      <th>Africa</th>\n",
              "      <td>2021-11-01</td>\n",
              "      <td>159.008</td>\n",
              "      <td>6191.136</td>\n",
              "      <td>8.93</td>\n",
              "      <td>NaN</td>\n",
              "    </tr>\n",
              "    <tr>\n",
              "      <th>Albania</th>\n",
              "      <td>2021-11-01</td>\n",
              "      <td>1020.211</td>\n",
              "      <td>64567.094</td>\n",
              "      <td>35.29</td>\n",
              "      <td>0.795</td>\n",
              "    </tr>\n",
              "    <tr>\n",
              "      <th>Algeria</th>\n",
              "      <td>2021-11-01</td>\n",
              "      <td>132.776</td>\n",
              "      <td>4629.799</td>\n",
              "      <td>14.26</td>\n",
              "      <td>0.748</td>\n",
              "    </tr>\n",
              "    <tr>\n",
              "      <th>Andorra</th>\n",
              "      <td>2021-11-01</td>\n",
              "      <td>1680.585</td>\n",
              "      <td>200584.327</td>\n",
              "      <td>70.30</td>\n",
              "      <td>0.868</td>\n",
              "    </tr>\n",
              "    <tr>\n",
              "      <th>...</th>\n",
              "      <td>...</td>\n",
              "      <td>...</td>\n",
              "      <td>...</td>\n",
              "      <td>...</td>\n",
              "      <td>...</td>\n",
              "    </tr>\n",
              "    <tr>\n",
              "      <th>Wallis and Futuna</th>\n",
              "      <td>2021-11-01</td>\n",
              "      <td>NaN</td>\n",
              "      <td>NaN</td>\n",
              "      <td>53.52</td>\n",
              "      <td>NaN</td>\n",
              "    </tr>\n",
              "    <tr>\n",
              "      <th>World</th>\n",
              "      <td>2021-11-01</td>\n",
              "      <td>635.699</td>\n",
              "      <td>31383.570</td>\n",
              "      <td>49.63</td>\n",
              "      <td>0.737</td>\n",
              "    </tr>\n",
              "    <tr>\n",
              "      <th>Yemen</th>\n",
              "      <td>2021-11-01</td>\n",
              "      <td>61.986</td>\n",
              "      <td>321.377</td>\n",
              "      <td>1.07</td>\n",
              "      <td>0.470</td>\n",
              "    </tr>\n",
              "    <tr>\n",
              "      <th>Zambia</th>\n",
              "      <td>2021-11-01</td>\n",
              "      <td>193.492</td>\n",
              "      <td>11085.186</td>\n",
              "      <td>1.64</td>\n",
              "      <td>0.584</td>\n",
              "    </tr>\n",
              "    <tr>\n",
              "      <th>Zimbabwe</th>\n",
              "      <td>2021-11-01</td>\n",
              "      <td>310.028</td>\n",
              "      <td>8812.980</td>\n",
              "      <td>22.02</td>\n",
              "      <td>0.571</td>\n",
              "    </tr>\n",
              "  </tbody>\n",
              "</table>\n",
              "<p>233 rows × 5 columns</p>\n",
              "</div>"
            ],
            "text/plain": [
              "                        date  ...  human_development_index\n",
              "location                      ...                         \n",
              "Afghanistan       2021-11-01  ...                    0.511\n",
              "Africa            2021-11-01  ...                      NaN\n",
              "Albania           2021-11-01  ...                    0.795\n",
              "Algeria           2021-11-01  ...                    0.748\n",
              "Andorra           2021-11-01  ...                    0.868\n",
              "...                      ...  ...                      ...\n",
              "Wallis and Futuna 2021-11-01  ...                      NaN\n",
              "World             2021-11-01  ...                    0.737\n",
              "Yemen             2021-11-01  ...                    0.470\n",
              "Zambia            2021-11-01  ...                    0.584\n",
              "Zimbabwe          2021-11-01  ...                    0.571\n",
              "\n",
              "[233 rows x 5 columns]"
            ]
          },
          "metadata": {},
          "execution_count": 15
        }
      ]
    },
    {
      "cell_type": "markdown",
      "metadata": {
        "id": "ofpLWMeHjVRh"
      },
      "source": [
        "#### Task 3-3. (10 점) 백신 접종률을 x축, 확진자 비율 대비 사망자 비율을 y축으로하는 scatter plot 그리기"
      ]
    },
    {
      "cell_type": "code",
      "metadata": {
        "colab": {
          "base_uri": "https://localhost:8080/",
          "height": 377
        },
        "id": "UWYq-NEa9fHI",
        "outputId": "b07516f3-0644-4f7c-a2a2-0b3c7fbe3273"
      },
      "source": [
        "plt.scatter(by_country['people_vaccinated_per_hundred'], by_country['total_deaths_per_million']/by_country['total_cases_per_million'])\n",
        "plt.xlabel('people_vaccinated_per_hundred\t')\n",
        "plt.ylabel('deaths per cases')\n",
        "plt.show()"
      ],
      "execution_count": 16,
      "outputs": [
        {
          "output_type": "stream",
          "name": "stderr",
          "text": [
            "/usr/local/lib/python3.7/dist-packages/matplotlib/backends/backend_agg.py:214: RuntimeWarning: Glyph 9 missing from current font.\n",
            "  font.set_text(s, 0.0, flags=flags)\n",
            "/usr/local/lib/python3.7/dist-packages/matplotlib/backends/backend_agg.py:183: RuntimeWarning: Glyph 9 missing from current font.\n",
            "  font.set_text(s, 0, flags=flags)\n"
          ]
        },
        {
          "output_type": "display_data",
          "data": {
            "image/png": "[encoded data removed]",
            "text/plain": [
              "<Figure size 432x288 with 1 Axes>"
            ]
          },
          "metadata": {
            "needs_background": "light"
          }
        }
      ]
    },
    {
      "cell_type": "markdown",
      "metadata": {
        "id": "OqwAhhpYjbjo"
      },
      "source": [
        "#### Task 3-4. (10 점) 백신 접종률과 확진자 비율 대비 사망자 비율 사이의 상관계수 (Pearson Correlation Coefficient) 구하기 (함수 직접 구현)"
      ]
    },
    {
      "cell_type": "code",
      "metadata": {
        "id": "ihEB1hDjHGid"
      },
      "source": [
        "def pearson_similarity(u1, u2):\n",
        "  u1_c = u1 - u1.mean()\n",
        "  u2_c = u2 - u2.mean()\n",
        "  denom = np.sqrt(np.sum(u1_c ** 2) * np.sum(u2_c ** 2))\n",
        "  if denom != 0:\n",
        "    return np.sum(u1_c * u2_c)/denom\n",
        "  else:\n",
        "    return 0"
      ],
      "execution_count": 17,
      "outputs": []
    },
    {
      "cell_type": "code",
      "metadata": {
        "colab": {
          "base_uri": "https://localhost:8080/"
        },
        "id": "xYnOTS64NqQo",
        "outputId": "6833e0c9-19e5-4f06-d49f-5ed53c758aa8"
      },
      "source": [
        "pearson_similarity(by_country['people_vaccinated_per_hundred'], by_country['total_deaths_per_million']/by_country['total_cases_per_million'])"
      ],
      "execution_count": 18,
      "outputs": [
        {
          "output_type": "execute_result",
          "data": {
            "text/plain": [
              "-0.23185178247436014"
            ]
          },
          "metadata": {},
          "execution_count": 18
        }
      ]
    },
    {
      "cell_type": "markdown",
      "metadata": {
        "id": "2aE-KQpVlPDV"
      },
      "source": [
        "## Task 4. (25 점) (백신 접종은 전세계적으로 골고루 이뤄지고 있을까?) HDI 계수 (human_development_index)와 백신 접종률(people_vaccinated_per_hundred) 사이의 상관관계 알아보기 (Task 3-2 에서 구한 데이터프레임 활용)"
      ]
    },
    {
      "cell_type": "markdown",
      "metadata": {
        "id": "1eVm2KKRlUiD"
      },
      "source": [
        "#### Task 4-1. (5 점) Task 3-2에서 생성한 데이터프레임을 활용하여 HDI 계수와 백신 접종률 사이의 상관계수 (Pearson Correlation Coefficient) 구하기"
      ]
    },
    {
      "cell_type": "code",
      "metadata": {
        "colab": {
          "base_uri": "https://localhost:8080/"
        },
        "id": "7QTt941qOhn-",
        "outputId": "7cf97cc1-7206-42b0-9247-ad40214a2f4f"
      },
      "source": [
        "pearson_similarity(by_country['human_development_index'], by_country['people_vaccinated_per_hundred'])"
      ],
      "execution_count": 19,
      "outputs": [
        {
          "output_type": "execute_result",
          "data": {
            "text/plain": [
              "0.7250351729877785"
            ]
          },
          "metadata": {},
          "execution_count": 19
        }
      ]
    },
    {
      "cell_type": "markdown",
      "metadata": {
        "id": "ftItfTvVlY4T"
      },
      "source": [
        "#### Task 4-2. (10점) Linear Regression 방법으로 HDI 계수와 백신 접종률 사이의 선형 관계 학습하기 (y = wx + b 에서 w값과 b값 구하기)"
      ]
    },
    {
      "cell_type": "code",
      "metadata": {
        "id": "_UyT390dPOSY"
      },
      "source": [
        "import torch"
      ],
      "execution_count": 20,
      "outputs": []
    },
    {
      "cell_type": "code",
      "metadata": {
        "id": "tWM-ahgSSepF"
      },
      "source": [
        "x = torch.FloatTensor(by_country['human_development_index'].fillna(by_country['human_development_index'].mean())).view(233,1)\n",
        "y = torch.FloatTensor(by_country['people_vaccinated_per_hundred'].fillna(by_country['human_development_index'].mean())).view(233,1)"
      ],
      "execution_count": 21,
      "outputs": []
    },
    {
      "cell_type": "code",
      "metadata": {
        "colab": {
          "base_uri": "https://localhost:8080/"
        },
        "id": "OWaS1FXATWuB",
        "outputId": "7d45a37c-114c-4c1e-87f0-a34a8764c990"
      },
      "source": [
        "W = torch.zeros(1,1)\n",
        "b = torch.zeros(1,1)\n",
        "\n",
        "lr = 0.01\n",
        "\n",
        "for epoch in range(25000):\n",
        "  W.requires_grad_(True)\n",
        "  b.requires_grad_(True)\n",
        "\n",
        "  hypothesis = torch.mm(x, W) + b\n",
        "  cost = torch.mean((hypothesis - y) ** 2)\n",
        "\n",
        "  cost.backward()\n",
        "  with torch.no_grad() as grd:\n",
        "    W = W - lr * W.grad\n",
        "    b = b - lr * b.grad\n",
        "\n",
        "  if epoch % 100 == 0:\n",
        "    print('epoch: {}, cost: {:.6f}, W: {}, b: {}'.format(epoch, cost.item(), W, b))\n",
        "\n",
        "print('W: {}, b: {}'.format(W, b))"
      ],
      "execution_count": 22,
      "outputs": [
        {
          "output_type": "stream",
          "name": "stdout",
          "text": [
            "epoch: 0, cost: 2844.468018, W: tensor([[0.7090]]), b: tensor([[0.9065]])\n",
            "epoch: 100, cost: 670.977966, W: tensor([[24.2530]]), b: tensor([[26.8574]])\n",
            "epoch: 200, cost: 653.648987, W: tensor([[28.0836]]), b: tensor([[25.9930]])\n",
            "epoch: 300, cost: 641.258667, W: tensor([[30.9649]]), b: tensor([[23.9732]])\n",
            "epoch: 400, cost: 629.450195, W: tensor([[33.7401]]), b: tensor([[21.9479]])\n",
            "epoch: 500, cost: 618.188293, W: tensor([[36.4486]]), b: tensor([[19.9677]])\n",
            "epoch: 600, cost: 607.447693, W: tensor([[39.0937]]), b: tensor([[18.0338]])\n",
            "epoch: 700, cost: 597.204285, W: tensor([[41.6768]]), b: tensor([[16.1452]])\n",
            "epoch: 800, cost: 587.434937, W: tensor([[44.1994]]), b: tensor([[14.3007]])\n",
            "epoch: 900, cost: 578.117798, W: tensor([[46.6629]]), b: tensor([[12.4995]])\n",
            "epoch: 1000, cost: 569.231873, W: tensor([[49.0687]]), b: tensor([[10.7405]])\n",
            "epoch: 1100, cost: 560.757385, W: tensor([[51.4182]]), b: tensor([[9.0226]])\n",
            "epoch: 1200, cost: 552.675110, W: tensor([[53.7127]]), b: tensor([[7.3450]])\n",
            "epoch: 1300, cost: 544.966858, W: tensor([[55.9534]]), b: tensor([[5.7066]])\n",
            "epoch: 1400, cost: 537.615417, W: tensor([[58.1417]]), b: tensor([[4.1066]])\n",
            "epoch: 1500, cost: 530.604248, W: tensor([[60.2787]]), b: tensor([[2.5441]])\n",
            "epoch: 1600, cost: 523.917664, W: tensor([[62.3657]]), b: tensor([[1.0182]])\n",
            "epoch: 1700, cost: 517.540527, W: tensor([[64.4038]]), b: tensor([[-0.4720]])\n",
            "epoch: 1800, cost: 511.458588, W: tensor([[66.3942]]), b: tensor([[-1.9273]])\n",
            "epoch: 1900, cost: 505.658051, W: tensor([[68.3380]]), b: tensor([[-3.3485]])\n",
            "epoch: 2000, cost: 500.126129, W: tensor([[70.2362]]), b: tensor([[-4.7364]])\n",
            "epoch: 2100, cost: 494.850189, W: tensor([[72.0900]]), b: tensor([[-6.0919]])\n",
            "epoch: 2200, cost: 489.818542, W: tensor([[73.9004]]), b: tensor([[-7.4156]])\n",
            "epoch: 2300, cost: 485.019714, W: tensor([[75.6684]]), b: tensor([[-8.7083]])\n",
            "epoch: 2400, cost: 480.442993, W: tensor([[77.3951]]), b: tensor([[-9.9707]])\n",
            "epoch: 2500, cost: 476.078186, W: tensor([[79.0812]]), b: tensor([[-11.2035]])\n",
            "epoch: 2600, cost: 471.915436, W: tensor([[80.7279]]), b: tensor([[-12.4075]])\n",
            "epoch: 2700, cost: 467.945221, W: tensor([[82.3360]]), b: tensor([[-13.5833]])\n",
            "epoch: 2800, cost: 464.158813, W: tensor([[83.9065]]), b: tensor([[-14.7316]])\n",
            "epoch: 2900, cost: 460.547699, W: tensor([[85.4402]]), b: tensor([[-15.8530]])\n",
            "epoch: 3000, cost: 457.103790, W: tensor([[86.9380]]), b: tensor([[-16.9481]])\n",
            "epoch: 3100, cost: 453.819214, W: tensor([[88.4006]]), b: tensor([[-18.0176]])\n",
            "epoch: 3200, cost: 450.686737, W: tensor([[89.8291]]), b: tensor([[-19.0620]])\n",
            "epoch: 3300, cost: 447.699249, W: tensor([[91.2241]]), b: tensor([[-20.0819]])\n",
            "epoch: 3400, cost: 444.849976, W: tensor([[92.5864]]), b: tensor([[-21.0780]])\n",
            "epoch: 3500, cost: 442.132599, W: tensor([[93.9168]]), b: tensor([[-22.0508]])\n",
            "epoch: 3600, cost: 439.541107, W: tensor([[95.2160]]), b: tensor([[-23.0007]])\n",
            "epoch: 3700, cost: 437.069519, W: tensor([[96.4849]]), b: tensor([[-23.9285]])\n",
            "epoch: 3800, cost: 434.712250, W: tensor([[97.7240]]), b: tensor([[-24.8345]])\n",
            "epoch: 3900, cost: 432.464081, W: tensor([[98.9341]]), b: tensor([[-25.7192]])\n",
            "epoch: 4000, cost: 430.320068, W: tensor([[100.1159]]), b: tensor([[-26.5833]])\n",
            "epoch: 4100, cost: 428.275238, W: tensor([[101.2700]]), b: tensor([[-27.4271]])\n",
            "epoch: 4200, cost: 426.325134, W: tensor([[102.3970]]), b: tensor([[-28.2512]])\n",
            "epoch: 4300, cost: 424.465210, W: tensor([[103.4977]]), b: tensor([[-29.0560]])\n",
            "epoch: 4400, cost: 422.691467, W: tensor([[104.5726]]), b: tensor([[-29.8419]])\n",
            "epoch: 4500, cost: 420.999756, W: tensor([[105.6224]]), b: tensor([[-30.6094]])\n",
            "epoch: 4600, cost: 419.386353, W: tensor([[106.6475]]), b: tensor([[-31.3590]])\n",
            "epoch: 4700, cost: 417.847565, W: tensor([[107.6487]]), b: tensor([[-32.0910]])\n",
            "epoch: 4800, cost: 416.380096, W: tensor([[108.6264]]), b: tensor([[-32.8058]])\n",
            "epoch: 4900, cost: 414.980560, W: tensor([[109.5812]]), b: tensor([[-33.5040]])\n",
            "epoch: 5000, cost: 413.645782, W: tensor([[110.5136]]), b: tensor([[-34.1857]])\n",
            "epoch: 5100, cost: 412.372742, W: tensor([[111.4242]]), b: tensor([[-34.8515]])\n",
            "epoch: 5200, cost: 411.158691, W: tensor([[112.3135]]), b: tensor([[-35.5017]])\n",
            "epoch: 5300, cost: 410.000763, W: tensor([[113.1819]]), b: tensor([[-36.1367]])\n",
            "epoch: 5400, cost: 408.896484, W: tensor([[114.0301]]), b: tensor([[-36.7568]])\n",
            "epoch: 5500, cost: 407.843353, W: tensor([[114.8583]]), b: tensor([[-37.3624]])\n",
            "epoch: 5600, cost: 406.838806, W: tensor([[115.6672]]), b: tensor([[-37.9538]])\n",
            "epoch: 5700, cost: 405.880890, W: tensor([[116.4571]]), b: tensor([[-38.5314]])\n",
            "epoch: 5800, cost: 404.967346, W: tensor([[117.2286]]), b: tensor([[-39.0954]])\n",
            "epoch: 5900, cost: 404.096008, W: tensor([[117.9819]]), b: tensor([[-39.6463]])\n",
            "epoch: 6000, cost: 403.265015, W: tensor([[118.7176]]), b: tensor([[-40.1842]])\n",
            "epoch: 6100, cost: 402.472504, W: tensor([[119.4361]]), b: tensor([[-40.7095]])\n",
            "epoch: 6200, cost: 401.716675, W: tensor([[120.1378]]), b: tensor([[-41.2225]])\n",
            "epoch: 6300, cost: 400.995819, W: tensor([[120.8230]]), b: tensor([[-41.7236]])\n",
            "epoch: 6400, cost: 400.308319, W: tensor([[121.4922]]), b: tensor([[-42.2128]])\n",
            "epoch: 6500, cost: 399.652710, W: tensor([[122.1457]]), b: tensor([[-42.6907]])\n",
            "epoch: 6600, cost: 399.027405, W: tensor([[122.7839]]), b: tensor([[-43.1573]])\n",
            "epoch: 6700, cost: 398.431000, W: tensor([[123.4072]]), b: tensor([[-43.6130]])\n",
            "epoch: 6800, cost: 397.862213, W: tensor([[124.0159]]), b: tensor([[-44.0580]])\n",
            "epoch: 6900, cost: 397.319824, W: tensor([[124.6103]]), b: tensor([[-44.4927]])\n",
            "epoch: 7000, cost: 396.802460, W: tensor([[125.1908]]), b: tensor([[-44.9171]])\n",
            "epoch: 7100, cost: 396.309143, W: tensor([[125.7577]]), b: tensor([[-45.3316]])\n",
            "epoch: 7200, cost: 395.838531, W: tensor([[126.3113]]), b: tensor([[-45.7364]])\n",
            "epoch: 7300, cost: 395.389740, W: tensor([[126.8520]]), b: tensor([[-46.1317]])\n",
            "epoch: 7400, cost: 394.961731, W: tensor([[127.3800]]), b: tensor([[-46.5177]])\n",
            "epoch: 7500, cost: 394.553558, W: tensor([[127.8956]]), b: tensor([[-46.8948]])\n",
            "epoch: 7600, cost: 394.164307, W: tensor([[128.3991]]), b: tensor([[-47.2630]])\n",
            "epoch: 7700, cost: 393.792999, W: tensor([[128.8909]]), b: tensor([[-47.6225]])\n",
            "epoch: 7800, cost: 393.438934, W: tensor([[129.3711]]), b: tensor([[-47.9736]])\n",
            "epoch: 7900, cost: 393.101227, W: tensor([[129.8401]]), b: tensor([[-48.3166]])\n",
            "epoch: 8000, cost: 392.779236, W: tensor([[130.2982]]), b: tensor([[-48.6514]])\n",
            "epoch: 8100, cost: 392.472046, W: tensor([[130.7454]]), b: tensor([[-48.9785]])\n",
            "epoch: 8200, cost: 392.179108, W: tensor([[131.1822]]), b: tensor([[-49.2978]])\n",
            "epoch: 8300, cost: 391.899780, W: tensor([[131.6088]]), b: tensor([[-49.6097]])\n",
            "epoch: 8400, cost: 391.633301, W: tensor([[132.0254]]), b: tensor([[-49.9143]])\n",
            "epoch: 8500, cost: 391.379211, W: tensor([[132.4323]]), b: tensor([[-50.2118]])\n",
            "epoch: 8600, cost: 391.136841, W: tensor([[132.8296]]), b: tensor([[-50.5023]])\n",
            "epoch: 8700, cost: 390.905701, W: tensor([[133.2176]]), b: tensor([[-50.7860]])\n",
            "epoch: 8800, cost: 390.685242, W: tensor([[133.5965]]), b: tensor([[-51.0630]])\n",
            "epoch: 8900, cost: 390.474976, W: tensor([[133.9666]]), b: tensor([[-51.3336]])\n",
            "epoch: 9000, cost: 390.274475, W: tensor([[134.3279]]), b: tensor([[-51.5979]])\n",
            "epoch: 9100, cost: 390.083252, W: tensor([[134.6809]]), b: tensor([[-51.8559]])\n",
            "epoch: 9200, cost: 389.900940, W: tensor([[135.0255]]), b: tensor([[-52.1079]])\n",
            "epoch: 9300, cost: 389.726990, W: tensor([[135.3621]]), b: tensor([[-52.3540]])\n",
            "epoch: 9400, cost: 389.561127, W: tensor([[135.6908]]), b: tensor([[-52.5943]])\n",
            "epoch: 9500, cost: 389.402863, W: tensor([[136.0118]]), b: tensor([[-52.8290]])\n",
            "epoch: 9600, cost: 389.252014, W: tensor([[136.3253]]), b: tensor([[-53.0582]])\n",
            "epoch: 9700, cost: 389.108124, W: tensor([[136.6314]]), b: tensor([[-53.2821]])\n",
            "epoch: 9800, cost: 388.970917, W: tensor([[136.9304]]), b: tensor([[-53.5007]])\n",
            "epoch: 9900, cost: 388.839996, W: tensor([[137.2224]]), b: tensor([[-53.7142]])\n",
            "epoch: 10000, cost: 388.715240, W: tensor([[137.5075]]), b: tensor([[-53.9226]])\n",
            "epoch: 10100, cost: 388.596130, W: tensor([[137.7860]]), b: tensor([[-54.1262]])\n",
            "epoch: 10200, cost: 388.482605, W: tensor([[138.0579]]), b: tensor([[-54.3251]])\n",
            "epoch: 10300, cost: 388.374359, W: tensor([[138.3235]]), b: tensor([[-54.5193]])\n",
            "epoch: 10400, cost: 388.271088, W: tensor([[138.5828]]), b: tensor([[-54.7089]])\n",
            "epoch: 10500, cost: 388.172607, W: tensor([[138.8361]]), b: tensor([[-54.8941]])\n",
            "epoch: 10600, cost: 388.078674, W: tensor([[139.0835]]), b: tensor([[-55.0749]])\n",
            "epoch: 10700, cost: 387.989075, W: tensor([[139.3250]]), b: tensor([[-55.2515]])\n",
            "epoch: 10800, cost: 387.903625, W: tensor([[139.5609]]), b: tensor([[-55.4240]])\n",
            "epoch: 10900, cost: 387.822205, W: tensor([[139.7912]]), b: tensor([[-55.5924]])\n",
            "epoch: 11000, cost: 387.744446, W: tensor([[140.0162]]), b: tensor([[-55.7569]])\n",
            "epoch: 11100, cost: 387.670319, W: tensor([[140.2359]]), b: tensor([[-55.9176]])\n",
            "epoch: 11200, cost: 387.599640, W: tensor([[140.4505]]), b: tensor([[-56.0744]])\n",
            "epoch: 11300, cost: 387.532257, W: tensor([[140.6600]]), b: tensor([[-56.2276]])\n",
            "epoch: 11400, cost: 387.468018, W: tensor([[140.8647]]), b: tensor([[-56.3772]])\n",
            "epoch: 11500, cost: 387.406586, W: tensor([[141.0645]]), b: tensor([[-56.5233]])\n",
            "epoch: 11600, cost: 387.348145, W: tensor([[141.2596]]), b: tensor([[-56.6660]])\n",
            "epoch: 11700, cost: 387.292389, W: tensor([[141.4502]]), b: tensor([[-56.8054]])\n",
            "epoch: 11800, cost: 387.239227, W: tensor([[141.6363]]), b: tensor([[-56.9414]])\n",
            "epoch: 11900, cost: 387.188507, W: tensor([[141.8180]]), b: tensor([[-57.0743]])\n",
            "epoch: 12000, cost: 387.140076, W: tensor([[141.9955]]), b: tensor([[-57.2041]])\n",
            "epoch: 12100, cost: 387.093964, W: tensor([[142.1689]]), b: tensor([[-57.3309]])\n",
            "epoch: 12200, cost: 387.049957, W: tensor([[142.3382]]), b: tensor([[-57.4546]])\n",
            "epoch: 12300, cost: 387.007965, W: tensor([[142.5035]]), b: tensor([[-57.5755]])\n",
            "epoch: 12400, cost: 386.967957, W: tensor([[142.6650]]), b: tensor([[-57.6936]])\n",
            "epoch: 12500, cost: 386.929810, W: tensor([[142.8226]]), b: tensor([[-57.8088]])\n",
            "epoch: 12600, cost: 386.893402, W: tensor([[142.9766]]), b: tensor([[-57.9214]])\n",
            "epoch: 12700, cost: 386.858643, W: tensor([[143.1270]]), b: tensor([[-58.0314]])\n",
            "epoch: 12800, cost: 386.825562, W: tensor([[143.2738]]), b: tensor([[-58.1387]])\n",
            "epoch: 12900, cost: 386.793945, W: tensor([[143.4172]]), b: tensor([[-58.2436]])\n",
            "epoch: 13000, cost: 386.763885, W: tensor([[143.5573]]), b: tensor([[-58.3460]])\n",
            "epoch: 13100, cost: 386.735138, W: tensor([[143.6940]]), b: tensor([[-58.4460]])\n",
            "epoch: 13200, cost: 386.707733, W: tensor([[143.8276]]), b: tensor([[-58.5436]])\n",
            "epoch: 13300, cost: 386.681610, W: tensor([[143.9581]]), b: tensor([[-58.6390]])\n",
            "epoch: 13400, cost: 386.656708, W: tensor([[144.0854]]), b: tensor([[-58.7321]])\n",
            "epoch: 13500, cost: 386.632904, W: tensor([[144.2098]]), b: tensor([[-58.8231]])\n",
            "epoch: 13600, cost: 386.610260, W: tensor([[144.3313]]), b: tensor([[-58.9119]])\n",
            "epoch: 13700, cost: 386.588654, W: tensor([[144.4499]]), b: tensor([[-58.9986]])\n",
            "epoch: 13800, cost: 386.568054, W: tensor([[144.5657]]), b: tensor([[-59.0833]])\n",
            "epoch: 13900, cost: 386.548370, W: tensor([[144.6789]]), b: tensor([[-59.1661]])\n",
            "epoch: 14000, cost: 386.529633, W: tensor([[144.7894]]), b: tensor([[-59.2468]])\n",
            "epoch: 14100, cost: 386.511810, W: tensor([[144.8972]]), b: tensor([[-59.3257]])\n",
            "epoch: 14200, cost: 386.494690, W: tensor([[145.0026]]), b: tensor([[-59.4028]])\n",
            "epoch: 14300, cost: 386.478455, W: tensor([[145.1055]]), b: tensor([[-59.4780]])\n",
            "epoch: 14400, cost: 386.462921, W: tensor([[145.2060]]), b: tensor([[-59.5515]])\n",
            "epoch: 14500, cost: 386.448120, W: tensor([[145.3042]]), b: tensor([[-59.6232]])\n",
            "epoch: 14600, cost: 386.434021, W: tensor([[145.3999]]), b: tensor([[-59.6933]])\n",
            "epoch: 14700, cost: 386.420563, W: tensor([[145.4936]]), b: tensor([[-59.7617]])\n",
            "epoch: 14800, cost: 386.407715, W: tensor([[145.5849]]), b: tensor([[-59.8285]])\n",
            "epoch: 14900, cost: 386.395477, W: tensor([[145.6742]]), b: tensor([[-59.8938]])\n",
            "epoch: 15000, cost: 386.383789, W: tensor([[145.7614]]), b: tensor([[-59.9576]])\n",
            "epoch: 15100, cost: 386.372711, W: tensor([[145.8465]]), b: tensor([[-60.0198]])\n",
            "epoch: 15200, cost: 386.362061, W: tensor([[145.9296]]), b: tensor([[-60.0806]])\n",
            "epoch: 15300, cost: 386.351959, W: tensor([[146.0108]]), b: tensor([[-60.1399]])\n",
            "epoch: 15400, cost: 386.342285, W: tensor([[146.0901]]), b: tensor([[-60.1979]])\n",
            "epoch: 15500, cost: 386.333099, W: tensor([[146.1674]]), b: tensor([[-60.2545]])\n",
            "epoch: 15600, cost: 386.324310, W: tensor([[146.2430]]), b: tensor([[-60.3097]])\n",
            "epoch: 15700, cost: 386.315918, W: tensor([[146.3168]]), b: tensor([[-60.3637]])\n",
            "epoch: 15800, cost: 386.307892, W: tensor([[146.3889]]), b: tensor([[-60.4164]])\n",
            "epoch: 15900, cost: 386.300293, W: tensor([[146.4594]]), b: tensor([[-60.4679]])\n",
            "epoch: 16000, cost: 386.293030, W: tensor([[146.5282]]), b: tensor([[-60.5182]])\n",
            "epoch: 16100, cost: 386.286102, W: tensor([[146.5954]]), b: tensor([[-60.5673]])\n",
            "epoch: 16200, cost: 386.279510, W: tensor([[146.6610]]), b: tensor([[-60.6153]])\n",
            "epoch: 16300, cost: 386.273163, W: tensor([[146.7250]]), b: tensor([[-60.6621]])\n",
            "epoch: 16400, cost: 386.267212, W: tensor([[146.7876]]), b: tensor([[-60.7078]])\n",
            "epoch: 16500, cost: 386.261444, W: tensor([[146.8486]]), b: tensor([[-60.7524]])\n",
            "epoch: 16600, cost: 386.255981, W: tensor([[146.9082]]), b: tensor([[-60.7960]])\n",
            "epoch: 16700, cost: 386.250793, W: tensor([[146.9663]]), b: tensor([[-60.8386]])\n",
            "epoch: 16800, cost: 386.245789, W: tensor([[147.0231]]), b: tensor([[-60.8801]])\n",
            "epoch: 16900, cost: 386.241058, W: tensor([[147.0786]]), b: tensor([[-60.9207]])\n",
            "epoch: 17000, cost: 386.236542, W: tensor([[147.1328]]), b: tensor([[-60.9604]])\n",
            "epoch: 17100, cost: 386.232147, W: tensor([[147.1859]]), b: tensor([[-60.9991]])\n",
            "epoch: 17200, cost: 386.228058, W: tensor([[147.2377]]), b: tensor([[-61.0369]])\n",
            "epoch: 17300, cost: 386.224182, W: tensor([[147.2881]]), b: tensor([[-61.0738]])\n",
            "epoch: 17400, cost: 386.220459, W: tensor([[147.3374]]), b: tensor([[-61.1099]])\n",
            "epoch: 17500, cost: 386.216858, W: tensor([[147.3856]]), b: tensor([[-61.1452]])\n",
            "epoch: 17600, cost: 386.213440, W: tensor([[147.4328]]), b: tensor([[-61.1796]])\n",
            "epoch: 17700, cost: 386.210236, W: tensor([[147.4786]]), b: tensor([[-61.2131]])\n",
            "epoch: 17800, cost: 386.207092, W: tensor([[147.5234]]), b: tensor([[-61.2460]])\n",
            "epoch: 17900, cost: 386.204163, W: tensor([[147.5673]]), b: tensor([[-61.2780]])\n",
            "epoch: 18000, cost: 386.201355, W: tensor([[147.6100]]), b: tensor([[-61.3092]])\n",
            "epoch: 18100, cost: 386.198669, W: tensor([[147.6516]]), b: tensor([[-61.3397]])\n",
            "epoch: 18200, cost: 386.196075, W: tensor([[147.6926]]), b: tensor([[-61.3696]])\n",
            "epoch: 18300, cost: 386.193665, W: tensor([[147.7323]]), b: tensor([[-61.3986]])\n",
            "epoch: 18400, cost: 386.191376, W: tensor([[147.7711]]), b: tensor([[-61.4271]])\n",
            "epoch: 18500, cost: 386.189087, W: tensor([[147.8093]]), b: tensor([[-61.4548]])\n",
            "epoch: 18600, cost: 386.186951, W: tensor([[147.8461]]), b: tensor([[-61.4819]])\n",
            "epoch: 18700, cost: 386.184906, W: tensor([[147.8827]]), b: tensor([[-61.5085]])\n",
            "epoch: 18800, cost: 386.183014, W: tensor([[147.9178]]), b: tensor([[-61.5343]])\n",
            "epoch: 18900, cost: 386.181152, W: tensor([[147.9526]]), b: tensor([[-61.5597]])\n",
            "epoch: 19000, cost: 386.179382, W: tensor([[147.9861]]), b: tensor([[-61.5843]])\n",
            "epoch: 19100, cost: 386.177734, W: tensor([[148.0193]]), b: tensor([[-61.6085]])\n",
            "epoch: 19200, cost: 386.176178, W: tensor([[148.0513]]), b: tensor([[-61.6319]])\n",
            "epoch: 19300, cost: 386.174622, W: tensor([[148.0830]]), b: tensor([[-61.6551]])\n",
            "epoch: 19400, cost: 386.173218, W: tensor([[148.1135]]), b: tensor([[-61.6774]])\n",
            "epoch: 19500, cost: 386.171783, W: tensor([[148.1437]]), b: tensor([[-61.6994]])\n",
            "epoch: 19600, cost: 386.170471, W: tensor([[148.1727]]), b: tensor([[-61.7207]])\n",
            "epoch: 19700, cost: 386.169189, W: tensor([[148.2017]]), b: tensor([[-61.7417]])\n",
            "epoch: 19800, cost: 386.167999, W: tensor([[148.2292]]), b: tensor([[-61.7621]])\n",
            "epoch: 19900, cost: 386.166840, W: tensor([[148.2567]]), b: tensor([[-61.7819]])\n",
            "epoch: 20000, cost: 386.165771, W: tensor([[148.2832]]), b: tensor([[-61.8015]])\n",
            "epoch: 20100, cost: 386.164734, W: tensor([[148.3091]]), b: tensor([[-61.8203]])\n",
            "epoch: 20200, cost: 386.163696, W: tensor([[148.3348]]), b: tensor([[-61.8391]])\n",
            "epoch: 20300, cost: 386.162781, W: tensor([[148.3592]]), b: tensor([[-61.8571]])\n",
            "epoch: 20400, cost: 386.161835, W: tensor([[148.3836]]), b: tensor([[-61.8748]])\n",
            "epoch: 20500, cost: 386.161041, W: tensor([[148.4073]]), b: tensor([[-61.8922]])\n",
            "epoch: 20600, cost: 386.160187, W: tensor([[148.4302]]), b: tensor([[-61.9090]])\n",
            "epoch: 20700, cost: 386.159363, W: tensor([[148.4531]]), b: tensor([[-61.9255]])\n",
            "epoch: 20800, cost: 386.158661, W: tensor([[148.4749]]), b: tensor([[-61.9417]])\n",
            "epoch: 20900, cost: 386.157959, W: tensor([[148.4963]]), b: tensor([[-61.9573]])\n",
            "epoch: 21000, cost: 386.157257, W: tensor([[148.5177]]), b: tensor([[-61.9728]])\n",
            "epoch: 21100, cost: 386.156586, W: tensor([[148.5381]]), b: tensor([[-61.9879]])\n",
            "epoch: 21200, cost: 386.155945, W: tensor([[148.5579]]), b: tensor([[-62.0024]])\n",
            "epoch: 21300, cost: 386.155426, W: tensor([[148.5778]]), b: tensor([[-62.0167]])\n",
            "epoch: 21400, cost: 386.154846, W: tensor([[148.5970]]), b: tensor([[-62.0309]])\n",
            "epoch: 21500, cost: 386.154236, W: tensor([[148.6154]]), b: tensor([[-62.0444]])\n",
            "epoch: 21600, cost: 386.153748, W: tensor([[148.6337]]), b: tensor([[-62.0577]])\n",
            "epoch: 21700, cost: 386.153229, W: tensor([[148.6520]]), b: tensor([[-62.0709]])\n",
            "epoch: 21800, cost: 386.152832, W: tensor([[148.6691]]), b: tensor([[-62.0837]])\n",
            "epoch: 21900, cost: 386.152405, W: tensor([[148.6859]]), b: tensor([[-62.0959]])\n",
            "epoch: 22000, cost: 386.151947, W: tensor([[148.7026]]), b: tensor([[-62.1081]])\n",
            "epoch: 22100, cost: 386.151520, W: tensor([[148.7193]]), b: tensor([[-62.1202]])\n",
            "epoch: 22200, cost: 386.151123, W: tensor([[148.7348]]), b: tensor([[-62.1317]])\n",
            "epoch: 22300, cost: 386.150787, W: tensor([[148.7500]]), b: tensor([[-62.1428]])\n",
            "epoch: 22400, cost: 386.150391, W: tensor([[148.7653]]), b: tensor([[-62.1538]])\n",
            "epoch: 22500, cost: 386.150116, W: tensor([[148.7805]]), b: tensor([[-62.1649]])\n",
            "epoch: 22600, cost: 386.149750, W: tensor([[148.7947]]), b: tensor([[-62.1755]])\n",
            "epoch: 22700, cost: 386.149475, W: tensor([[148.8084]]), b: tensor([[-62.1855]])\n",
            "epoch: 22800, cost: 386.149170, W: tensor([[148.8221]]), b: tensor([[-62.1954]])\n",
            "epoch: 22900, cost: 386.148865, W: tensor([[148.8359]]), b: tensor([[-62.2053]])\n",
            "epoch: 23000, cost: 386.148651, W: tensor([[148.8492]]), b: tensor([[-62.2152]])\n",
            "epoch: 23100, cost: 386.148376, W: tensor([[148.8617]]), b: tensor([[-62.2245]])\n",
            "epoch: 23200, cost: 386.148102, W: tensor([[148.8739]]), b: tensor([[-62.2334]])\n",
            "epoch: 23300, cost: 386.147888, W: tensor([[148.8861]]), b: tensor([[-62.2422]])\n",
            "epoch: 23400, cost: 386.147644, W: tensor([[148.8983]]), b: tensor([[-62.2510]])\n",
            "epoch: 23500, cost: 386.147491, W: tensor([[148.9103]]), b: tensor([[-62.2598]])\n",
            "epoch: 23600, cost: 386.147278, W: tensor([[148.9215]]), b: tensor([[-62.2682]])\n",
            "epoch: 23700, cost: 386.147034, W: tensor([[148.9322]]), b: tensor([[-62.2761]])\n",
            "epoch: 23800, cost: 386.146973, W: tensor([[148.9429]]), b: tensor([[-62.2838]])\n",
            "epoch: 23900, cost: 386.146698, W: tensor([[148.9536]]), b: tensor([[-62.2915]])\n",
            "epoch: 24000, cost: 386.146606, W: tensor([[148.9642]]), b: tensor([[-62.2992]])\n",
            "epoch: 24100, cost: 386.146393, W: tensor([[148.9747]]), b: tensor([[-62.3069]])\n",
            "epoch: 24200, cost: 386.146210, W: tensor([[148.9845]]), b: tensor([[-62.3142]])\n",
            "epoch: 24300, cost: 386.146088, W: tensor([[148.9937]]), b: tensor([[-62.3211]])\n",
            "epoch: 24400, cost: 386.145966, W: tensor([[149.0028]]), b: tensor([[-62.3277]])\n",
            "epoch: 24500, cost: 386.145813, W: tensor([[149.0120]]), b: tensor([[-62.3343]])\n",
            "epoch: 24600, cost: 386.145721, W: tensor([[149.0211]]), b: tensor([[-62.3409]])\n",
            "epoch: 24700, cost: 386.145630, W: tensor([[149.0303]]), b: tensor([[-62.3475]])\n",
            "epoch: 24800, cost: 386.145447, W: tensor([[149.0392]]), b: tensor([[-62.3541]])\n",
            "epoch: 24900, cost: 386.145386, W: tensor([[149.0475]]), b: tensor([[-62.3603]])\n",
            "W: tensor([[149.0552]]), b: tensor([[-62.3661]])\n"
          ]
        }
      ]
    },
    {
      "cell_type": "markdown",
      "metadata": {
        "id": "3tcNtCQNlb2d"
      },
      "source": [
        "#### Task 4-3. (10점) HDI 계수를 x축으로, 백신 접종률을 y축으로하는 scatter plot과, Task 4-2에서 학습한 직선을 겹쳐 그리기 (scatter plot과 직선이 일치하는지 확인하여 학습이 제대로 되었는지 확인)"
      ]
    },
    {
      "cell_type": "code",
      "metadata": {
        "colab": {
          "base_uri": "https://localhost:8080/",
          "height": 266
        },
        "id": "JWR-1h6ilfUF",
        "outputId": "64719591-56ad-495a-d038-affdf5158d7a"
      },
      "source": [
        "plt.scatter(by_country['human_development_index'], by_country['people_vaccinated_per_hundred'])\n",
        "plt.plot(x, W.item()*x + b.item(), c='red')\n",
        "plt.show()"
      ],
      "execution_count": 23,
      "outputs": [
        {
          "output_type": "display_data",
          "data": {
            "image/png": "[encoded data removed]",
            "text/plain": [
              "<Figure size 432x288 with 1 Axes>"
            ]
          },
          "metadata": {
            "needs_background": "light"
          }
        }
      ]
    }
  ]
}