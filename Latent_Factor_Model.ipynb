{
  "nbformat": 4,
  "nbformat_minor": 0,
  "metadata": {
    "colab": {
      "name": "20203065_박규연_과제5.ipynb",
      "provenance": [],
      "collapsed_sections": []
    },
    "kernelspec": {
      "name": "python3",
      "display_name": "Python 3"
    },
    "language_info": {
      "name": "python"
    }
  },
  "cells": [
    {
      "cell_type": "code",
      "metadata": {
        "colab": {
          "base_uri": "https://localhost:8080/"
        },
        "id": "Vj_GLz_cO1pU",
        "outputId": "5a32d040-2dea-4019-e58d-7054acc3ecd7"
      },
      "source": [
        "from google.colab import drive\n",
        "drive.mount('/content/gdrive')"
      ],
      "execution_count": 1,
      "outputs": [
        {
          "output_type": "stream",
          "name": "stdout",
          "text": [
            "Drive already mounted at /content/gdrive; to attempt to forcibly remount, call drive.mount(\"/content/gdrive\", force_remount=True).\n"
          ]
        }
      ]
    },
    {
      "cell_type": "code",
      "metadata": {
        "colab": {
          "base_uri": "https://localhost:8080/"
        },
        "id": "53ogRP9kPCnG",
        "outputId": "8658c9de-3338-4e01-9733-4f7d6923c25d"
      },
      "source": [
        "!ls \"/content/gdrive/My Drive/2-2학기/데이터과학/ml-100k\""
      ],
      "execution_count": 2,
      "outputs": [
        {
          "output_type": "stream",
          "name": "stdout",
          "text": [
            "allbut.pl  u1.base  u2.test  u4.base  u5.test  ub.base\tu.genre  u.occupation\n",
            "mku.sh\t   u1.test  u3.base  u4.test  ua.base  ub.test\tu.info\t u.user\n",
            "README\t   u2.base  u3.test  u5.base  ua.test  u.data\tu.item\n"
          ]
        }
      ]
    },
    {
      "cell_type": "code",
      "metadata": {
        "id": "FQm9Z04HPR1c"
      },
      "source": [
        "import torch\n",
        "import pandas as pd\n",
        "import torch.nn.functional as F\n",
        "import matplotlib.pyplot as plt"
      ],
      "execution_count": 3,
      "outputs": []
    },
    {
      "cell_type": "code",
      "metadata": {
        "id": "5ZWZBQd7Pj22"
      },
      "source": [
        "train = pd.read_csv(\"/content/gdrive/My Drive/2-2학기/데이터과학/ml-100k/ua.base\", sep=\"\\t\", names=['user', 'movie', 'rating', 'timestamp'])\n",
        "test = pd.read_csv(\"/content/gdrive/My Drive/2-2학기/데이터과학/ml-100k/ua.test\", sep=\"\\t\", names=['user', 'movie', 'rating', 'timestamp'])"
      ],
      "execution_count": 4,
      "outputs": []
    },
    {
      "cell_type": "code",
      "metadata": {
        "id": "E1v4lss2P_Z-"
      },
      "source": [
        "items = torch.LongTensor(train['movie'])\n",
        "users = torch.LongTensor(train['user'])\n",
        "ratings = torch.FloatTensor(train['rating'])\n",
        "items_test = torch.LongTensor(test['movie'])\n",
        "users_test = torch.LongTensor(test['user'])\n",
        "ratings_test = torch.LongTensor(test['rating'])"
      ],
      "execution_count": 5,
      "outputs": []
    },
    {
      "cell_type": "code",
      "metadata": {
        "id": "RF6qW7h_QWB6"
      },
      "source": [
        "rank = 10\n",
        "numItems = items.max() + 1\n",
        "numUsers = users.max() + 1\n",
        "P = torch.randn(numItems, rank, requires_grad=True)\n",
        "Q = torch.randn(numUsers, rank, requires_grad=True)"
      ],
      "execution_count": 6,
      "outputs": []
    },
    {
      "cell_type": "code",
      "metadata": {
        "colab": {
          "base_uri": "https://localhost:8080/"
        },
        "id": "-6haekn_Q1qm",
        "outputId": "f70f9718-1592-4b8a-fcc7-ac6eaa88716b"
      },
      "source": [
        "X = []\n",
        "Y = []\n",
        "Y_test = []\n",
        "\n",
        "lambda1 = 0.0001\n",
        "lambda2 = 0.0001\n",
        "lambda3 = 0.002\n",
        "lambda4 = 0.001\n",
        "bias_item = torch.randn(numItems, requires_grad=True)\n",
        "bias_user = torch.randn(numUsers, requires_grad=True)\n",
        "mean = (ratings.sum() / len(ratings)).item()\n",
        "\n",
        "optimizer = torch.optim.Adam([P, Q, bias_item, bias_user], lr=0.1)\n",
        "\n",
        "for epoch in range(1000):\n",
        "  hypothesis = torch.sum(P[items] * Q[users], dim=1) + mean + bias_item[items] + bias_user[users]\n",
        "  cost = F.mse_loss(hypothesis, ratings)\n",
        "  loss = cost + lambda1 * torch.sum(P ** 2) + lambda2 * torch.sum(Q ** 2) + lambda3 * torch.sum(bias_item ** 2) + lambda4 * torch.sum(bias_user ** 2)\n",
        "\n",
        "  optimizer.zero_grad()\n",
        "  loss.backward()\n",
        "  optimizer.step()\n",
        "\n",
        "  X.append(epoch)\n",
        "  Y.append(cost)\n",
        "  with torch.no_grad():\n",
        "    hypo_test = torch.sum(P[items_test] * Q[users_test], dim=1) + mean + bias_item[items_test] + bias_user[users_test]\n",
        "    cost_test = F.mse_loss(hypo_test, ratings_test)\n",
        "    Y_test.append(cost_test)\n",
        "\n",
        "  if epoch % 100 == 0:\n",
        "    print(\"epoch: {}, cost: {:.6f}\".format(epoch, cost.item()))"
      ],
      "execution_count": 7,
      "outputs": [
        {
          "output_type": "stream",
          "name": "stdout",
          "text": [
            "epoch: 0, cost: 13.625380\n",
            "epoch: 100, cost: 0.639821\n",
            "epoch: 200, cost: 0.610247\n",
            "epoch: 300, cost: 0.606687\n",
            "epoch: 400, cost: 0.605638\n",
            "epoch: 500, cost: 0.605314\n",
            "epoch: 600, cost: 0.605215\n",
            "epoch: 700, cost: 0.605115\n",
            "epoch: 800, cost: 0.604881\n",
            "epoch: 900, cost: 0.604524\n"
          ]
        }
      ]
    },
    {
      "cell_type": "code",
      "metadata": {
        "colab": {
          "base_uri": "https://localhost:8080/",
          "height": 279
        },
        "id": "Tz98BfFaRhZs",
        "outputId": "6a2fe741-c277-45a4-a4c4-531d9abfc29a"
      },
      "source": [
        "plt.ylabel(\"MSE\")\n",
        "plt.xlabel(\"Epoch\")\n",
        "plt.plot(X, Y, c=\"blue\", label=\"Training MSE\")\n",
        "plt.plot(X, Y_test, c=\"red\", label=\"Test MSE\")\n",
        "plt.legend()\n",
        "plt.show()"
      ],
      "execution_count": 8,
      "outputs": [
        {
          "output_type": "display_data",
          "data": {
            "image/png": "[encoded data removed]",
            "text/plain": [
              "<Figure size 432x288 with 1 Axes>"
            ]
          },
          "metadata": {
            "needs_background": "light"
          }
        }
      ]
    }
  ]
}