{
  "nbformat": 4,
  "nbformat_minor": 0,
  "metadata": {
    "colab": {
      "name": "20203065_박규연_과제7.ipynb",
      "provenance": []
    },
    "kernelspec": {
      "name": "python3",
      "display_name": "Python 3"
    },
    "language_info": {
      "name": "python"
    }
  },
  "cells": [
    {
      "cell_type": "code",
      "metadata": {
        "id": "UIZkgsQqaiCQ"
      },
      "source": [
        "import matplotlib.pyplot as plt\n",
        "import random\n",
        "from tqdm import tqdm"
      ],
      "execution_count": 1,
      "outputs": []
    },
    {
      "cell_type": "code",
      "metadata": {
        "colab": {
          "base_uri": "https://localhost:8080/"
        },
        "id": "LmwfYrlkbJQy",
        "outputId": "b93fd8b2-e1be-4b82-9164-46ba189d0c5a"
      },
      "source": [
        "data = []\n",
        "\n",
        "for line in open(\"iris.data\", \"r\"):\n",
        "  try: \n",
        "    items = line.strip().split(\",\")\n",
        "    data.append(([float(i) for i in items[:4]], items[4]))\n",
        "  except:\n",
        "    pass\n",
        "  \n",
        "data"
      ],
      "execution_count": 2,
      "outputs": [
        {
          "output_type": "execute_result",
          "data": {
            "text/plain": [
              "[([5.1, 3.5, 1.4, 0.2], 'Iris-setosa'),\n",
              " ([4.9, 3.0, 1.4, 0.2], 'Iris-setosa'),\n",
              " ([4.7, 3.2, 1.3, 0.2], 'Iris-setosa'),\n",
              " ([4.6, 3.1, 1.5, 0.2], 'Iris-setosa'),\n",
              " ([5.0, 3.6, 1.4, 0.2], 'Iris-setosa'),\n",
              " ([5.4, 3.9, 1.7, 0.4], 'Iris-setosa'),\n",
              " ([4.6, 3.4, 1.4, 0.3], 'Iris-setosa'),\n",
              " ([5.0, 3.4, 1.5, 0.2], 'Iris-setosa'),\n",
              " ([4.4, 2.9, 1.4, 0.2], 'Iris-setosa'),\n",
              " ([4.9, 3.1, 1.5, 0.1], 'Iris-setosa'),\n",
              " ([5.4, 3.7, 1.5, 0.2], 'Iris-setosa'),\n",
              " ([4.8, 3.4, 1.6, 0.2], 'Iris-setosa'),\n",
              " ([4.8, 3.0, 1.4, 0.1], 'Iris-setosa'),\n",
              " ([4.3, 3.0, 1.1, 0.1], 'Iris-setosa'),\n",
              " ([5.8, 4.0, 1.2, 0.2], 'Iris-setosa'),\n",
              " ([5.7, 4.4, 1.5, 0.4], 'Iris-setosa'),\n",
              " ([5.4, 3.9, 1.3, 0.4], 'Iris-setosa'),\n",
              " ([5.1, 3.5, 1.4, 0.3], 'Iris-setosa'),\n",
              " ([5.7, 3.8, 1.7, 0.3], 'Iris-setosa'),\n",
              " ([5.1, 3.8, 1.5, 0.3], 'Iris-setosa'),\n",
              " ([5.4, 3.4, 1.7, 0.2], 'Iris-setosa'),\n",
              " ([5.1, 3.7, 1.5, 0.4], 'Iris-setosa'),\n",
              " ([4.6, 3.6, 1.0, 0.2], 'Iris-setosa'),\n",
              " ([5.1, 3.3, 1.7, 0.5], 'Iris-setosa'),\n",
              " ([4.8, 3.4, 1.9, 0.2], 'Iris-setosa'),\n",
              " ([5.0, 3.0, 1.6, 0.2], 'Iris-setosa'),\n",
              " ([5.0, 3.4, 1.6, 0.4], 'Iris-setosa'),\n",
              " ([5.2, 3.5, 1.5, 0.2], 'Iris-setosa'),\n",
              " ([5.2, 3.4, 1.4, 0.2], 'Iris-setosa'),\n",
              " ([4.7, 3.2, 1.6, 0.2], 'Iris-setosa'),\n",
              " ([4.8, 3.1, 1.6, 0.2], 'Iris-setosa'),\n",
              " ([5.4, 3.4, 1.5, 0.4], 'Iris-setosa'),\n",
              " ([5.2, 4.1, 1.5, 0.1], 'Iris-setosa'),\n",
              " ([5.5, 4.2, 1.4, 0.2], 'Iris-setosa'),\n",
              " ([4.9, 3.1, 1.5, 0.1], 'Iris-setosa'),\n",
              " ([5.0, 3.2, 1.2, 0.2], 'Iris-setosa'),\n",
              " ([5.5, 3.5, 1.3, 0.2], 'Iris-setosa'),\n",
              " ([4.9, 3.1, 1.5, 0.1], 'Iris-setosa'),\n",
              " ([4.4, 3.0, 1.3, 0.2], 'Iris-setosa'),\n",
              " ([5.1, 3.4, 1.5, 0.2], 'Iris-setosa'),\n",
              " ([5.0, 3.5, 1.3, 0.3], 'Iris-setosa'),\n",
              " ([4.5, 2.3, 1.3, 0.3], 'Iris-setosa'),\n",
              " ([4.4, 3.2, 1.3, 0.2], 'Iris-setosa'),\n",
              " ([5.0, 3.5, 1.6, 0.6], 'Iris-setosa'),\n",
              " ([5.1, 3.8, 1.9, 0.4], 'Iris-setosa'),\n",
              " ([4.8, 3.0, 1.4, 0.3], 'Iris-setosa'),\n",
              " ([5.1, 3.8, 1.6, 0.2], 'Iris-setosa'),\n",
              " ([4.6, 3.2, 1.4, 0.2], 'Iris-setosa'),\n",
              " ([5.3, 3.7, 1.5, 0.2], 'Iris-setosa'),\n",
              " ([5.0, 3.3, 1.4, 0.2], 'Iris-setosa'),\n",
              " ([7.0, 3.2, 4.7, 1.4], 'Iris-versicolor'),\n",
              " ([6.4, 3.2, 4.5, 1.5], 'Iris-versicolor'),\n",
              " ([6.9, 3.1, 4.9, 1.5], 'Iris-versicolor'),\n",
              " ([5.5, 2.3, 4.0, 1.3], 'Iris-versicolor'),\n",
              " ([6.5, 2.8, 4.6, 1.5], 'Iris-versicolor'),\n",
              " ([5.7, 2.8, 4.5, 1.3], 'Iris-versicolor'),\n",
              " ([6.3, 3.3, 4.7, 1.6], 'Iris-versicolor'),\n",
              " ([4.9, 2.4, 3.3, 1.0], 'Iris-versicolor'),\n",
              " ([6.6, 2.9, 4.6, 1.3], 'Iris-versicolor'),\n",
              " ([5.2, 2.7, 3.9, 1.4], 'Iris-versicolor'),\n",
              " ([5.0, 2.0, 3.5, 1.0], 'Iris-versicolor'),\n",
              " ([5.9, 3.0, 4.2, 1.5], 'Iris-versicolor'),\n",
              " ([6.0, 2.2, 4.0, 1.0], 'Iris-versicolor'),\n",
              " ([6.1, 2.9, 4.7, 1.4], 'Iris-versicolor'),\n",
              " ([5.6, 2.9, 3.6, 1.3], 'Iris-versicolor'),\n",
              " ([6.7, 3.1, 4.4, 1.4], 'Iris-versicolor'),\n",
              " ([5.6, 3.0, 4.5, 1.5], 'Iris-versicolor'),\n",
              " ([5.8, 2.7, 4.1, 1.0], 'Iris-versicolor'),\n",
              " ([6.2, 2.2, 4.5, 1.5], 'Iris-versicolor'),\n",
              " ([5.6, 2.5, 3.9, 1.1], 'Iris-versicolor'),\n",
              " ([5.9, 3.2, 4.8, 1.8], 'Iris-versicolor'),\n",
              " ([6.1, 2.8, 4.0, 1.3], 'Iris-versicolor'),\n",
              " ([6.3, 2.5, 4.9, 1.5], 'Iris-versicolor'),\n",
              " ([6.1, 2.8, 4.7, 1.2], 'Iris-versicolor'),\n",
              " ([6.4, 2.9, 4.3, 1.3], 'Iris-versicolor'),\n",
              " ([6.6, 3.0, 4.4, 1.4], 'Iris-versicolor'),\n",
              " ([6.8, 2.8, 4.8, 1.4], 'Iris-versicolor'),\n",
              " ([6.7, 3.0, 5.0, 1.7], 'Iris-versicolor'),\n",
              " ([6.0, 2.9, 4.5, 1.5], 'Iris-versicolor'),\n",
              " ([5.7, 2.6, 3.5, 1.0], 'Iris-versicolor'),\n",
              " ([5.5, 2.4, 3.8, 1.1], 'Iris-versicolor'),\n",
              " ([5.5, 2.4, 3.7, 1.0], 'Iris-versicolor'),\n",
              " ([5.8, 2.7, 3.9, 1.2], 'Iris-versicolor'),\n",
              " ([6.0, 2.7, 5.1, 1.6], 'Iris-versicolor'),\n",
              " ([5.4, 3.0, 4.5, 1.5], 'Iris-versicolor'),\n",
              " ([6.0, 3.4, 4.5, 1.6], 'Iris-versicolor'),\n",
              " ([6.7, 3.1, 4.7, 1.5], 'Iris-versicolor'),\n",
              " ([6.3, 2.3, 4.4, 1.3], 'Iris-versicolor'),\n",
              " ([5.6, 3.0, 4.1, 1.3], 'Iris-versicolor'),\n",
              " ([5.5, 2.5, 4.0, 1.3], 'Iris-versicolor'),\n",
              " ([5.5, 2.6, 4.4, 1.2], 'Iris-versicolor'),\n",
              " ([6.1, 3.0, 4.6, 1.4], 'Iris-versicolor'),\n",
              " ([5.8, 2.6, 4.0, 1.2], 'Iris-versicolor'),\n",
              " ([5.0, 2.3, 3.3, 1.0], 'Iris-versicolor'),\n",
              " ([5.6, 2.7, 4.2, 1.3], 'Iris-versicolor'),\n",
              " ([5.7, 3.0, 4.2, 1.2], 'Iris-versicolor'),\n",
              " ([5.7, 2.9, 4.2, 1.3], 'Iris-versicolor'),\n",
              " ([6.2, 2.9, 4.3, 1.3], 'Iris-versicolor'),\n",
              " ([5.1, 2.5, 3.0, 1.1], 'Iris-versicolor'),\n",
              " ([5.7, 2.8, 4.1, 1.3], 'Iris-versicolor'),\n",
              " ([6.3, 3.3, 6.0, 2.5], 'Iris-virginica'),\n",
              " ([5.8, 2.7, 5.1, 1.9], 'Iris-virginica'),\n",
              " ([7.1, 3.0, 5.9, 2.1], 'Iris-virginica'),\n",
              " ([6.3, 2.9, 5.6, 1.8], 'Iris-virginica'),\n",
              " ([6.5, 3.0, 5.8, 2.2], 'Iris-virginica'),\n",
              " ([7.6, 3.0, 6.6, 2.1], 'Iris-virginica'),\n",
              " ([4.9, 2.5, 4.5, 1.7], 'Iris-virginica'),\n",
              " ([7.3, 2.9, 6.3, 1.8], 'Iris-virginica'),\n",
              " ([6.7, 2.5, 5.8, 1.8], 'Iris-virginica'),\n",
              " ([7.2, 3.6, 6.1, 2.5], 'Iris-virginica'),\n",
              " ([6.5, 3.2, 5.1, 2.0], 'Iris-virginica'),\n",
              " ([6.4, 2.7, 5.3, 1.9], 'Iris-virginica'),\n",
              " ([6.8, 3.0, 5.5, 2.1], 'Iris-virginica'),\n",
              " ([5.7, 2.5, 5.0, 2.0], 'Iris-virginica'),\n",
              " ([5.8, 2.8, 5.1, 2.4], 'Iris-virginica'),\n",
              " ([6.4, 3.2, 5.3, 2.3], 'Iris-virginica'),\n",
              " ([6.5, 3.0, 5.5, 1.8], 'Iris-virginica'),\n",
              " ([7.7, 3.8, 6.7, 2.2], 'Iris-virginica'),\n",
              " ([7.7, 2.6, 6.9, 2.3], 'Iris-virginica'),\n",
              " ([6.0, 2.2, 5.0, 1.5], 'Iris-virginica'),\n",
              " ([6.9, 3.2, 5.7, 2.3], 'Iris-virginica'),\n",
              " ([5.6, 2.8, 4.9, 2.0], 'Iris-virginica'),\n",
              " ([7.7, 2.8, 6.7, 2.0], 'Iris-virginica'),\n",
              " ([6.3, 2.7, 4.9, 1.8], 'Iris-virginica'),\n",
              " ([6.7, 3.3, 5.7, 2.1], 'Iris-virginica'),\n",
              " ([7.2, 3.2, 6.0, 1.8], 'Iris-virginica'),\n",
              " ([6.2, 2.8, 4.8, 1.8], 'Iris-virginica'),\n",
              " ([6.1, 3.0, 4.9, 1.8], 'Iris-virginica'),\n",
              " ([6.4, 2.8, 5.6, 2.1], 'Iris-virginica'),\n",
              " ([7.2, 3.0, 5.8, 1.6], 'Iris-virginica'),\n",
              " ([7.4, 2.8, 6.1, 1.9], 'Iris-virginica'),\n",
              " ([7.9, 3.8, 6.4, 2.0], 'Iris-virginica'),\n",
              " ([6.4, 2.8, 5.6, 2.2], 'Iris-virginica'),\n",
              " ([6.3, 2.8, 5.1, 1.5], 'Iris-virginica'),\n",
              " ([6.1, 2.6, 5.6, 1.4], 'Iris-virginica'),\n",
              " ([7.7, 3.0, 6.1, 2.3], 'Iris-virginica'),\n",
              " ([6.3, 3.4, 5.6, 2.4], 'Iris-virginica'),\n",
              " ([6.4, 3.1, 5.5, 1.8], 'Iris-virginica'),\n",
              " ([6.0, 3.0, 4.8, 1.8], 'Iris-virginica'),\n",
              " ([6.9, 3.1, 5.4, 2.1], 'Iris-virginica'),\n",
              " ([6.7, 3.1, 5.6, 2.4], 'Iris-virginica'),\n",
              " ([6.9, 3.1, 5.1, 2.3], 'Iris-virginica'),\n",
              " ([5.8, 2.7, 5.1, 1.9], 'Iris-virginica'),\n",
              " ([6.8, 3.2, 5.9, 2.3], 'Iris-virginica'),\n",
              " ([6.7, 3.3, 5.7, 2.5], 'Iris-virginica'),\n",
              " ([6.7, 3.0, 5.2, 2.3], 'Iris-virginica'),\n",
              " ([6.3, 2.5, 5.0, 1.9], 'Iris-virginica'),\n",
              " ([6.5, 3.0, 5.2, 2.0], 'Iris-virginica'),\n",
              " ([6.2, 3.4, 5.4, 2.3], 'Iris-virginica'),\n",
              " ([5.9, 3.0, 5.1, 1.8], 'Iris-virginica')]"
            ]
          },
          "metadata": {},
          "execution_count": 2
        }
      ]
    },
    {
      "cell_type": "code",
      "metadata": {
        "colab": {
          "base_uri": "https://localhost:8080/",
          "height": 268
        },
        "id": "o7vmgHRCu4dJ",
        "outputId": "ec193491-0d58-4631-9a25-0f6095b61b40"
      },
      "source": [
        "classes = ['Iris-setosa', 'Iris-versicolor', 'Iris-virginica']\n",
        "\n",
        "for c in classes:\n",
        "  X0 = []\n",
        "  X1 = []\n",
        "  for d in data:\n",
        "    if d[1] == c:\n",
        "      X0.append(d[0][0])\n",
        "      X1.append(d[0][1])\n",
        "      \n",
        "  plt.scatter(X0, X1, alpha=0.3)\n",
        "\n",
        "plt.show()"
      ],
      "execution_count": 3,
      "outputs": [
        {
          "output_type": "display_data",
          "data": {
            "image/png": "[encoded data removed]",
            "text/plain": [
              "<Figure size 432x288 with 1 Axes>"
            ]
          },
          "metadata": {
            "needs_background": "light"
          }
        }
      ]
    },
    {
      "cell_type": "code",
      "metadata": {
        "colab": {
          "base_uri": "https://localhost:8080/"
        },
        "id": "HDO_WAl8_UCY",
        "outputId": "a0ee0a66-c49b-48ad-9537-70966fc11192"
      },
      "source": [
        "random.shuffle(data)\n",
        "train = data[:-30]\n",
        "test = data[-30:]\n",
        "test"
      ],
      "execution_count": 4,
      "outputs": [
        {
          "output_type": "execute_result",
          "data": {
            "text/plain": [
              "[([5.9, 3.2, 4.8, 1.8], 'Iris-versicolor'),\n",
              " ([5.0, 3.2, 1.2, 0.2], 'Iris-setosa'),\n",
              " ([4.9, 3.1, 1.5, 0.1], 'Iris-setosa'),\n",
              " ([5.0, 3.0, 1.6, 0.2], 'Iris-setosa'),\n",
              " ([6.9, 3.2, 5.7, 2.3], 'Iris-virginica'),\n",
              " ([6.7, 3.1, 5.6, 2.4], 'Iris-virginica'),\n",
              " ([6.5, 3.0, 5.8, 2.2], 'Iris-virginica'),\n",
              " ([6.7, 3.3, 5.7, 2.1], 'Iris-virginica'),\n",
              " ([5.5, 2.3, 4.0, 1.3], 'Iris-versicolor'),\n",
              " ([6.4, 2.9, 4.3, 1.3], 'Iris-versicolor'),\n",
              " ([5.7, 3.8, 1.7, 0.3], 'Iris-setosa'),\n",
              " ([6.8, 2.8, 4.8, 1.4], 'Iris-versicolor'),\n",
              " ([5.0, 2.0, 3.5, 1.0], 'Iris-versicolor'),\n",
              " ([6.0, 3.4, 4.5, 1.6], 'Iris-versicolor'),\n",
              " ([7.0, 3.2, 4.7, 1.4], 'Iris-versicolor'),\n",
              " ([6.1, 3.0, 4.9, 1.8], 'Iris-virginica'),\n",
              " ([6.8, 3.0, 5.5, 2.1], 'Iris-virginica'),\n",
              " ([5.1, 3.8, 1.9, 0.4], 'Iris-setosa'),\n",
              " ([7.7, 3.8, 6.7, 2.2], 'Iris-virginica'),\n",
              " ([6.3, 3.3, 4.7, 1.6], 'Iris-versicolor'),\n",
              " ([6.4, 2.7, 5.3, 1.9], 'Iris-virginica'),\n",
              " ([7.9, 3.8, 6.4, 2.0], 'Iris-virginica'),\n",
              " ([4.8, 3.0, 1.4, 0.1], 'Iris-setosa'),\n",
              " ([5.8, 4.0, 1.2, 0.2], 'Iris-setosa'),\n",
              " ([6.7, 3.0, 5.0, 1.7], 'Iris-versicolor'),\n",
              " ([5.2, 3.4, 1.4, 0.2], 'Iris-setosa'),\n",
              " ([6.4, 2.8, 5.6, 2.2], 'Iris-virginica'),\n",
              " ([5.1, 3.3, 1.7, 0.5], 'Iris-setosa'),\n",
              " ([6.2, 2.2, 4.5, 1.5], 'Iris-versicolor'),\n",
              " ([5.0, 2.3, 3.3, 1.0], 'Iris-versicolor')]"
            ]
          },
          "metadata": {},
          "execution_count": 4
        }
      ]
    },
    {
      "cell_type": "code",
      "metadata": {
        "id": "aMtvufpAfDvh"
      },
      "source": [
        "def distance(a, b):\n",
        "  return sum((bi - ai) ** 2 for ai, bi in zip(a, b)) ** 0.5"
      ],
      "execution_count": 5,
      "outputs": []
    },
    {
      "cell_type": "code",
      "metadata": {
        "id": "Rd_jYXLXluyz"
      },
      "source": [
        "from collections import Counter\n",
        "\n",
        "def knn(query, k, train):\n",
        "\n",
        "  # train 데이터 중에서 query랑 가장 가까운 k개 찾기\n",
        "  dist_cls = []\n",
        "  for v, c in train:\n",
        "    d = distance(query, v)\n",
        "    dist_cls.append( (d, c) )\n",
        "\n",
        "  dist_cls.sort()\n",
        "  dist_cls = dist_cls[:k]\n",
        "\n",
        "  # 가중치를 준다면?\n",
        "  cls_cnt = {}\n",
        "  for d, c in dist_cls:\n",
        "    if c not in cls_cnt:\n",
        "      cls_cnt[c] = 0\n",
        "    cls_cnt[c] += 1/(1+d)\n",
        "  return max(cls_cnt.items(), key=lambda cc: cc[1])[0]\n",
        "\n",
        "  # 찾은 것 중에서, 가장 많이 나온 class를 선택해서 return 하기\n",
        "  #cls_cnt = Counter([c for d, c in dist_cls])\n",
        "  #return cls_cnt.most_common(1)[0][0]"
      ],
      "execution_count": 53,
      "outputs": []
    },
    {
      "cell_type": "code",
      "metadata": {
        "colab": {
          "base_uri": "https://localhost:8080/",
          "height": 284
        },
        "id": "zSIwLF_M5HSU",
        "outputId": "326fecee-f4df-4c89-e70f-1987b6231fde"
      },
      "source": [
        "n_trials = 100\n",
        "acc_avg = [0] * 50\n",
        "\n",
        "for _ in tqdm(range(n_trials)):\n",
        "  random.shuffle(data)\n",
        "  train = data[:-30]\n",
        "  test = data[-30:]\n",
        "\n",
        "  for k in range(1, 50):\n",
        "\n",
        "    correct_cnt = 0\n",
        "    for t_vec, t_cls in test:\n",
        "      expected = knn(t_vec, k, train)\n",
        "      if expected == t_cls:\n",
        "        correct_cnt += 1\n",
        "\n",
        "    accuracy = correct_cnt / len(test)\n",
        "    acc_avg[k] += accuracy\n",
        "\n",
        "acc_avg = [a / n_trials for a in acc_avg]\n",
        "acc_avg = acc_avg[1:]\n",
        "X = range(1, 50)\n",
        "\n",
        "plt.plot(X, acc_avg)\n",
        "plt.show()\n",
        "\n",
        "#query = test[0][0]\n",
        "#ans = knn(query, 5, train)\n",
        "#test[0][1] == ans"
      ],
      "execution_count": 54,
      "outputs": [
        {
          "output_type": "stream",
          "name": "stderr",
          "text": [
            "100%|██████████| 100/100 [00:39<00:00,  2.55it/s]\n"
          ]
        },
        {
          "output_type": "display_data",
          "data": {
            "image/png": "[encoded data removed]",
            "text/plain": [
              "<Figure size 432x288 with 1 Axes>"
            ]
          },
          "metadata": {
            "needs_background": "light"
          }
        }
      ]
    },
    {
      "cell_type": "code",
      "metadata": {
        "id": "3ImtS_zwGCv2"
      },
      "source": [
        ""
      ],
      "execution_count": null,
      "outputs": []
    }
  ]
}